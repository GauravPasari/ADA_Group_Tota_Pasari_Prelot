{
 "cells": [
  {
   "cell_type": "markdown",
   "metadata": {
    "collapsed": true
   },
   "source": [
    "# Homework 3: Interactive Viz"
   ]
  },
  {
   "cell_type": "code",
   "execution_count": 1,
   "metadata": {
    "collapsed": true
   },
   "outputs": [],
   "source": [
    "import branca.colormap as cm\n",
    "import folium\n",
    "import glob\n",
    "import json\n",
    "import matplotlib.pyplot as plt\n",
    "import os\n",
    "import pandas as pd\n",
    "import seaborn as sns\n",
    "\n",
    "from IPython.core.display import display, HTML\n",
    "from ipywidgets import widgets\n",
    "from ipywidgets import interact\n",
    "\n",
    "import warnings\n",
    "warnings.filterwarnings('ignore')"
   ]
  },
  {
   "cell_type": "code",
   "execution_count": 2,
   "metadata": {
    "collapsed": true
   },
   "outputs": [],
   "source": [
    "# PATH = '/Users/Gaurav/Desktop/Courses/Applied Data Analysis/ADA2017-Homeworks/03 - Interactive Viz/topojson/'\n",
    "PATH = '/Users/karunya/Documents/EPFL/ADA/ADA2017-Homeworks/03 - Interactive Viz/topojson/'\n",
    "# PATH = '/Users/laurieprelot/Documents/GitHub/ADA2017-Homeworks/03 - Interactive Viz/'\n",
    "\n",
    "DATA_EURO = PATH + 'europe.topojson.json'\n",
    "DATA_SWISS = PATH + 'ch-cantons.topojson.json'\n",
    "\n",
    "# DATA_FOLDER = '/Users/Gaurav/Desktop/'\n",
    "DATA_FOLDER = '/Users/karunya/Documents/EPFL/ADA/ADA_Group_Tota_Pasari_Prelot/'\n",
    "# DATA_FOLDER = '/Users/laurieprelot/Documents/GitHub/ADA2017-Homeworks/03 - Interactive Viz/Eurostats /'"
   ]
  },
  {
   "cell_type": "code",
   "execution_count": 3,
   "metadata": {
    "collapsed": true
   },
   "outputs": [],
   "source": [
    "with open(DATA_EURO) as euro_file:    \n",
    "    euro_data = json.load(euro_file)\n",
    "    \n",
    "with open(DATA_SWISS) as swiss_file:    \n",
    "    swiss_data = json.load(swiss_file)"
   ]
  },
  {
   "cell_type": "markdown",
   "metadata": {},
   "source": [
    "In this homework you will be dealing with two different datasets from the statistics offices of the European commission (eurostat) and the Swiss Confederation (amstat). They provide a variety of datasets with plenty of information on many different statistics and demographics at their respective scales. Unfortunately, as is often the case is data analysis, these websites are not always straightforward to navigate. They may include a lot of obscure categories, not always be translated into your native language, have strange link structures, … Navigating this complexity is part of a data scientists' job : you will have to use a few tricks to get the right data for this homework.\n",
    "\n",
    "For the visualization part, install Folium (HINT: it is not available in your standard Anaconda environment, therefore search on the Web how to install it easily!). Folium's README comes with very clear examples, and links to their own iPython Notebooks -- make good use of this information. For your own convenience, in this same directory you can already find two .topojson files, containing the geo-coordinates of\n",
    "\n",
    "European countries (liberal definition of EU) (topojson/europe.topojson.json, source)\n",
    "Swiss cantons (topojson/ch-cantons.topojson.json)\n",
    "These will be used as an overlay on the Folium maps."
   ]
  },
  {
   "cell_type": "markdown",
   "metadata": {},
   "source": [
    "### 1. Go to the eurostat website and try to find a dataset that includes the european unemployment rates at a recent date.\n",
    "\n",
    "Website: http://ec.europa.eu/eurostat/data/database\n",
    "\n",
    "Use this data to build a Choropleth map which shows the unemployment rate in Europe at a country level. Think about the colors you use, how you decided to split the intervals into data classes or which interactions you could add in order to make the visualization intuitive and expressive. Compare Switzerland's unemployment rate to that of the rest of Europe."
   ]
  },
  {
   "cell_type": "markdown",
   "metadata": {},
   "source": [
    "### Preprocessing of the data frame from Eurostats "
   ]
  },
  {
   "cell_type": "markdown",
   "metadata": {},
   "source": [
    "First we create one table with all the informations from the website "
   ]
  },
  {
   "cell_type": "code",
   "execution_count": null,
   "metadata": {
    "collapsed": true
   },
   "outputs": [],
   "source": [
    "filenames = glob.glob(DATA_FOLDER + \"Eurostats/*.csv\")\n",
    "if len(filenames) != 27:\n",
    "    print(\"Files missing. Check path again!\")\n",
    "\n",
    "EuroData = pd.read_csv(filenames[0])\n",
    "for i in range(1, len(filenames)):\n",
    "    EuroData = pd.concat([EuroData, pd.read_csv(filenames[i])], axis=0)"
   ]
  },
  {
   "cell_type": "code",
   "execution_count": null,
   "metadata": {},
   "outputs": [],
   "source": [
    "EuroData.drop(['Flag and Footnotes'], axis=1, inplace=True)\n",
    "EuroData.head()"
   ]
  },
  {
   "cell_type": "code",
   "execution_count": null,
   "metadata": {
    "scrolled": false
   },
   "outputs": [],
   "source": [
    "# range of values for each category\n",
    "print('Age range is ', EuroData.AGE.unique())\n",
    "print('Time range is', EuroData.TIME.unique())\n",
    "print('Metric is ', EuroData.UNIT.unique())\n",
    "print('Sex values are', EuroData.SEX.unique())"
   ]
  },
  {
   "cell_type": "code",
   "execution_count": null,
   "metadata": {
    "collapsed": true
   },
   "outputs": [],
   "source": [
    "# select the countries of interest\n",
    "EuroData = EuroData.set_index(['TIME','SEX', 'AGE', 'UNIT'])\n",
    "\n",
    "countries = ['Belgium',\n",
    "             'Bulgaria',\n",
    "             'Czech Republic',\n",
    "             'Denmark',\n",
    "             'Germany (until 1990 former territory of the FRG)',\n",
    "             'Estonia',\n",
    "             'Ireland',\n",
    "             'Greece',\n",
    "             'Spain',\n",
    "             'France',\n",
    "             'Croatia',\n",
    "             'Italy',\n",
    "             'Cyprus',\n",
    "             'Latvia',\n",
    "             'Lithuania',\n",
    "             'Luxembourg',\n",
    "             'Hungary',\n",
    "             'Malta',\n",
    "             'Netherlands',\n",
    "             'Austria',\n",
    "             'Poland',\n",
    "             'Portugal',\n",
    "             'Romania',\n",
    "             'Slovenia',\n",
    "             'Slovakia',\n",
    "             'Finland',\n",
    "             'Sweden',\n",
    "             'United Kingdom',\n",
    "             'Iceland',\n",
    "             'Norway']\n",
    "\n",
    "EuroData = EuroData[EuroData['GEO'].isin(countries)]"
   ]
  },
  {
   "cell_type": "code",
   "execution_count": null,
   "metadata": {
    "collapsed": true
   },
   "outputs": [],
   "source": [
    "# add a correction for Germany name \n",
    "EuroData['GEO'][EuroData['GEO'].isin(['Germany (until 1990 former territory of the FRG)'])] = 'Germany'"
   ]
  },
  {
   "cell_type": "code",
   "execution_count": null,
   "metadata": {},
   "outputs": [],
   "source": [
    "# correct data type by removing commas and converting to float\n",
    "print(EuroData['Value'].dtype)\n",
    "EuroData['Value'] = (EuroData['Value']).str.replace(',', '.')\n",
    "EuroData['Value'] = (EuroData['Value']).astype('float')\n",
    "print(EuroData['Value'].dtype)"
   ]
  },
  {
   "cell_type": "code",
   "execution_count": null,
   "metadata": {
    "scrolled": true
   },
   "outputs": [],
   "source": [
    "EuroData.head()"
   ]
  },
  {
   "cell_type": "code",
   "execution_count": null,
   "metadata": {
    "collapsed": true
   },
   "outputs": [],
   "source": [
    "EuroData.dropna(axis=0, how='any', inplace=True)"
   ]
  },
  {
   "cell_type": "markdown",
   "metadata": {},
   "source": [
    "#### We focus on the following:\n",
    "\n",
    "1. Metrics:\n",
    "'Percentage of total population' because the metric 'Percentage of active population' has too many NA values.\n",
    " \n",
    "2. Age ranges:\n",
    "We ignore 'Total' and use 'Less than 25 years' and 'From 25 to 74 years' to create different layers for the map.\n",
    "\n",
    "3. Sex types:\n",
    "Both 'Male' and 'Female'.\n",
    "\n",
    "Note: We choose not to separate over the years and show the data for the year 2016."
   ]
  },
  {
   "cell_type": "code",
   "execution_count": null,
   "metadata": {
    "collapsed": true,
    "scrolled": true
   },
   "outputs": [],
   "source": [
    "# extract data based on values of the time, sex, age, and unit columns\n",
    "unemployment_all_ages = EuroData.loc[2016, 'Total', 'Total', 'Percentage of total population']\n",
    "unemployment_youth = EuroData.loc[2016, 'Total', 'Less than 25 years', 'Percentage of total population']\n",
    "unemployment_adults = EuroData.loc[2016, 'Total', 'From 25 to 74 years', 'Percentage of total population']\n",
    "unemployment_females_all_ages = EuroData.loc[2016, 'Females', 'Total', 'Percentage of total population']\n",
    "unemployment_males_all_ages = EuroData.loc[2016, 'Males', 'Total', 'Percentage of total population']\n",
    "\n",
    "# create a list for the chloropeths below\n",
    "maps = [unemployment_all_ages,\n",
    "        unemployment_youth,\n",
    "        unemployment_adults,\n",
    "        unemployment_females_all_ages,\n",
    "        unemployment_males_all_ages]\n",
    "\n",
    "# add legends for each map\n",
    "legends = ['Unemployment rate in total population and all ages',\n",
    "           'Unemployment rate in less than 25 years old',\n",
    "           'Unemployment rate in from 25 to 74 years old',\n",
    "           'Unemployment rate in female population of all ages',\n",
    "           'Unemployment rate in male population of all ages']"
   ]
  },
  {
   "cell_type": "code",
   "execution_count": null,
   "metadata": {},
   "outputs": [],
   "source": [
    "# we create a chloropeth with unemployment rate for all ages in european countries\n",
    "total_unemployment_rate = folium.Map([47.87083, 9.08572], tiles='Mapbox Bright', zoom_start=4)\n",
    "\n",
    "total_unemployment_rate.choropleth(euro_data, \n",
    "             name=legends[0],\n",
    "             data=maps[0], \n",
    "             columns=['GEO','Value'],\n",
    "             key_on='feature.properties.NAME',\n",
    "             fill_color='YlOrRd',\n",
    "             topojson='objects.europe',\n",
    "             line_color='gray',\n",
    "             legend_name=legends[0],\n",
    "             threshold_scale=list(maps[0].Value.quantile([0, .15, .25, .5, .9, 1.]).values))\n",
    "\n",
    "folium.LayerControl().add_to(total_unemployment_rate)\n",
    "total_unemployment_rate.save('Total_Unemployment_Rate.html')\n",
    "total_unemployment_rate"
   ]
  },
  {
   "cell_type": "markdown",
   "metadata": {},
   "source": [
    "### NOTE: In order to check each layer, click on the small gray and white icon with layers on the right. By default, all four layers are displayed simultaneously."
   ]
  },
  {
   "cell_type": "code",
   "execution_count": null,
   "metadata": {},
   "outputs": [],
   "source": [
    "# we create a multilayer chloropeth using four of our data categories defined in legends\n",
    "multilayered_unemployment_rate = folium.Map([47.87083, 9.08572], tiles='Mapbox Bright', zoom_start=4)\n",
    "\n",
    "for i in range (1, len(maps)):\n",
    "    multilayered_unemployment_rate.choropleth(euro_data, \n",
    "                 name=legends[i],\n",
    "                 data=maps[i], \n",
    "                 columns=['GEO','Value'],\n",
    "                 key_on='feature.properties.NAME',\n",
    "                 fill_color='YlOrRd',\n",
    "                 topojson='objects.europe',\n",
    "                 line_color='gray',\n",
    "                 legend_name=legends[i],\n",
    "                 threshold_scale=list(maps[i].Value.quantile([0, .15, .25, .5, .9, 1.]).values))\n",
    "\n",
    "folium.LayerControl().add_to(multilayered_unemployment_rate)\n",
    "multilayered_unemployment_rate.save('Multilayered_Unemployment_Rate.html')\n",
    "multilayered_unemployment_rate\n",
    "\n",
    "# NOTE: In order to check each layer, click on the small gray and white icon with layers on the right\n",
    "# by default, all four layers are displayed simultaneously"
   ]
  },
  {
   "cell_type": "markdown",
   "metadata": {},
   "source": [
    "## 2. Go to the amstat website to find a dataset that includes the unemployment rates in Switzerland at a recent date.\n",
    "\n",
    "Website: https://www.amstat.ch/v2/index.jsp\n",
    "\n",
    "HINT Go to the details tab to find the raw data you need. If you do not speak French, German or Italian, think of using free translation services to navigate your way through.\n",
    "Use this data to build another Choropleth map, this time showing the unemployment rate at the level of swiss cantons. Again, try to make the map as expressive as possible, and comment on the trends you observe.\n",
    "\n",
    "The Swiss Confederation defines the rates you have just plotted as the number of people looking for a job divided by the size of the active population (scaled by 100). This is surely a valid choice, but as we discussed one could argue for a different categorization.\n",
    "\n",
    "Copy the map you have just created, but this time don't count in your statistics people who already have a job and are looking for a new one. How do your observations change? You can repeat this with different choices of categories to see how selecting different metrics can lead to different interpretations of the same data."
   ]
  },
  {
   "cell_type": "code",
   "execution_count": 4,
   "metadata": {},
   "outputs": [
    {
     "data": {
      "text/html": [
       "<div>\n",
       "<style>\n",
       "    .dataframe thead tr:only-child th {\n",
       "        text-align: right;\n",
       "    }\n",
       "\n",
       "    .dataframe thead th {\n",
       "        text-align: left;\n",
       "    }\n",
       "\n",
       "    .dataframe tbody tr th {\n",
       "        vertical-align: top;\n",
       "    }\n",
       "</style>\n",
       "<table border=\"1\" class=\"dataframe\">\n",
       "  <thead>\n",
       "    <tr style=\"text-align: right;\">\n",
       "      <th></th>\n",
       "      <th>Canton</th>\n",
       "      <th>Unemployment Rate</th>\n",
       "    </tr>\n",
       "  </thead>\n",
       "  <tbody>\n",
       "    <tr>\n",
       "      <th>1</th>\n",
       "      <td>Zürich</td>\n",
       "      <td>3.7</td>\n",
       "    </tr>\n",
       "    <tr>\n",
       "      <th>2</th>\n",
       "      <td>Bern/Berne</td>\n",
       "      <td>2.7</td>\n",
       "    </tr>\n",
       "    <tr>\n",
       "      <th>3</th>\n",
       "      <td>Luzern</td>\n",
       "      <td>2.1</td>\n",
       "    </tr>\n",
       "    <tr>\n",
       "      <th>4</th>\n",
       "      <td>Uri</td>\n",
       "      <td>1</td>\n",
       "    </tr>\n",
       "    <tr>\n",
       "      <th>5</th>\n",
       "      <td>Schwyz</td>\n",
       "      <td>1.8</td>\n",
       "    </tr>\n",
       "  </tbody>\n",
       "</table>\n",
       "</div>"
      ],
      "text/plain": [
       "       Canton Unemployment Rate\n",
       "1      Zürich               3.7\n",
       "2  Bern/Berne               2.7\n",
       "3      Luzern               2.1\n",
       "4         Uri                 1\n",
       "5      Schwyz               1.8"
      ]
     },
     "execution_count": 4,
     "metadata": {},
     "output_type": "execute_result"
    }
   ],
   "source": [
    "df = pd.read_excel(DATA_FOLDER + 'Unemployment_Cantons.xlsx', encoding='encoding', index=False)\n",
    "\n",
    "# remove uneccessary rows and columns\n",
    "df = df.iloc[1:,:]\n",
    "df = df.drop('Monat', 1)\n",
    "df = df[['Kanton', 'Gesamt']]\n",
    "\n",
    "# rename columns\n",
    "df.columns = ['Canton', 'Unemployment Rate']\n",
    "df.head()"
   ]
  },
  {
   "cell_type": "code",
   "execution_count": 5,
   "metadata": {},
   "outputs": [
    {
     "name": "stdout",
     "output_type": "stream",
     "text": [
      "object\n",
      "float64\n"
     ]
    }
   ],
   "source": [
    "# convert dtype for column from object to float for calculations\n",
    "print(df['Unemployment Rate'].dtype)\n",
    "df['Unemployment Rate'] = (df['Unemployment Rate']).str.replace(',', '.')\n",
    "df['Unemployment Rate'] = (df['Unemployment Rate']).astype('float')\n",
    "print(df['Unemployment Rate'].dtype)"
   ]
  },
  {
   "cell_type": "markdown",
   "metadata": {},
   "source": [
    "### Displaying Unemployment at the Level of Swiss Cantons"
   ]
  },
  {
   "cell_type": "code",
   "execution_count": null,
   "metadata": {
    "collapsed": true
   },
   "outputs": [],
   "source": [
    "ch_unemployment_rate = folium.Map([46.8182, 8.2275], tiles='Mapbox Bright', zoom_start=7.5)\n",
    "\n",
    "ch_unemployment_rate.choropleth(\n",
    "    geo_data=swiss_data, \n",
    "    name='Unemployment Rate in Canton',\n",
    "    data=df, \n",
    "    columns=['Canton', 'Unemployment Rate'],\n",
    "    fill_color='OrRd',\n",
    "    topojson='objects.cantons',\n",
    "    key_on='feature.properties.name',\n",
    "    legend_name='Unemployment Rate in Canton',\n",
    "    threshold_scale=list(df['Unemployment Rate'].quantile([0, .15, .25, .5, .9, 1.]).values))\n",
    "\n",
    "folium.LayerControl().add_to(ch_unemployment_rate)\n",
    "ch_unemployment_rate.save('Unemployment_Rate_Canton.html')\n",
    "ch_unemployment_rate"
   ]
  },
  {
   "cell_type": "markdown",
   "metadata": {},
   "source": [
    "### Displaying Unemployment at the Level of Swiss Cantons with Modified Job Seeker Definition"
   ]
  },
  {
   "cell_type": "markdown",
   "metadata": {},
   "source": [
    "The Swiss Confederation defines the rates have just been plotted as the number of people looking for a job divided by the size of the active population (scaled by 100). However, let's now consider the case where we do not account for  people who already have a job and are looking for a new one."
   ]
  },
  {
   "cell_type": "code",
   "execution_count": 6,
   "metadata": {},
   "outputs": [
    {
     "data": {
      "text/html": [
       "<div>\n",
       "<style>\n",
       "    .dataframe thead tr:only-child th {\n",
       "        text-align: right;\n",
       "    }\n",
       "\n",
       "    .dataframe thead th {\n",
       "        text-align: left;\n",
       "    }\n",
       "\n",
       "    .dataframe tbody tr th {\n",
       "        vertical-align: top;\n",
       "    }\n",
       "</style>\n",
       "<table border=\"1\" class=\"dataframe\">\n",
       "  <thead>\n",
       "    <tr style=\"text-align: right;\">\n",
       "      <th></th>\n",
       "      <th>Canton</th>\n",
       "      <th>Unemployment Rate</th>\n",
       "      <th>Registered Unemployed</th>\n",
       "      <th>Registered Job Seekers</th>\n",
       "      <th>Non-unemployed Job Seekers</th>\n",
       "    </tr>\n",
       "  </thead>\n",
       "  <tbody>\n",
       "    <tr>\n",
       "      <th>1</th>\n",
       "      <td>Zürich</td>\n",
       "      <td>3.7</td>\n",
       "      <td>30083.9</td>\n",
       "      <td>36785.9</td>\n",
       "      <td>6702</td>\n",
       "    </tr>\n",
       "    <tr>\n",
       "      <th>2</th>\n",
       "      <td>Bern/Berne</td>\n",
       "      <td>2.7</td>\n",
       "      <td>15283.2</td>\n",
       "      <td>20084.2</td>\n",
       "      <td>4801.08</td>\n",
       "    </tr>\n",
       "    <tr>\n",
       "      <th>3</th>\n",
       "      <td>Luzern</td>\n",
       "      <td>2.1</td>\n",
       "      <td>4601.75</td>\n",
       "      <td>7466.58</td>\n",
       "      <td>2864.83</td>\n",
       "    </tr>\n",
       "    <tr>\n",
       "      <th>4</th>\n",
       "      <td>Uri</td>\n",
       "      <td>1</td>\n",
       "      <td>201.5</td>\n",
       "      <td>363.417</td>\n",
       "      <td>161.917</td>\n",
       "    </tr>\n",
       "    <tr>\n",
       "      <th>5</th>\n",
       "      <td>Schwyz</td>\n",
       "      <td>1.8</td>\n",
       "      <td>1537.17</td>\n",
       "      <td>2289.58</td>\n",
       "      <td>752.417</td>\n",
       "    </tr>\n",
       "  </tbody>\n",
       "</table>\n",
       "</div>"
      ],
      "text/plain": [
       "       Canton Unemployment Rate Registered Unemployed Registered Job Seekers  \\\n",
       "1      Zürich               3.7               30083.9                36785.9   \n",
       "2  Bern/Berne               2.7               15283.2                20084.2   \n",
       "3      Luzern               2.1               4601.75                7466.58   \n",
       "4         Uri                 1                 201.5                363.417   \n",
       "5      Schwyz               1.8               1537.17                2289.58   \n",
       "\n",
       "  Non-unemployed Job Seekers  \n",
       "1                       6702  \n",
       "2                    4801.08  \n",
       "3                    2864.83  \n",
       "4                    161.917  \n",
       "5                    752.417  "
      ]
     },
     "execution_count": 6,
     "metadata": {},
     "output_type": "execute_result"
    }
   ],
   "source": [
    "df = pd.read_excel(DATA_FOLDER + 'Unemployment_Cantons_2.xlsx', encoding='encoding', index=False)\n",
    "\n",
    "# remove uneccessary rows and columns\n",
    "df = df.iloc[1:,:]\n",
    "df = df.drop('Monat', 1)\n",
    "df = df[['Kanton', 'Gesamt', 'Gesamt.1', 'Gesamt.2', 'Gesamt.3']]\n",
    "\n",
    "# rename columns\n",
    "df.columns = ['Canton', 'Unemployment Rate', 'Registered Unemployed', 'Registered Job Seekers', 'Non-unemployed Job Seekers']\n",
    "\n",
    "# calculate the averages per month\n",
    "df['Registered Unemployed'] /= 12\n",
    "df['Registered Job Seekers'] /= 12\n",
    "df['Non-unemployed Job Seekers'] /= 12\n",
    "df.head()"
   ]
  },
  {
   "cell_type": "code",
   "execution_count": 7,
   "metadata": {
    "collapsed": true
   },
   "outputs": [],
   "source": [
    "# convert dtype for column from object to float for calculations\n",
    "df['Unemployment Rate'] = (df['Unemployment Rate']).str.replace(',', '.')\n",
    "df['Unemployment Rate'] = (df['Unemployment Rate']).astype('float')\n",
    "df['Registered Unemployed'] = (df['Registered Unemployed']).astype('float')\n",
    "df['Registered Job Seekers'] = (df['Registered Job Seekers']).astype('float')\n",
    "df['Non-unemployed Job Seekers'] = (df['Non-unemployed Job Seekers']).astype('float')"
   ]
  },
  {
   "cell_type": "markdown",
   "metadata": {},
   "source": [
    "First we need to calculate the 'Total Active Population' by dividing the 'Registered Job Seekers' with the 'Unemployment Rate' for each Canton. "
   ]
  },
  {
   "cell_type": "code",
   "execution_count": 8,
   "metadata": {},
   "outputs": [
    {
     "data": {
      "text/html": [
       "<div>\n",
       "<style>\n",
       "    .dataframe thead tr:only-child th {\n",
       "        text-align: right;\n",
       "    }\n",
       "\n",
       "    .dataframe thead th {\n",
       "        text-align: left;\n",
       "    }\n",
       "\n",
       "    .dataframe tbody tr th {\n",
       "        vertical-align: top;\n",
       "    }\n",
       "</style>\n",
       "<table border=\"1\" class=\"dataframe\">\n",
       "  <thead>\n",
       "    <tr style=\"text-align: right;\">\n",
       "      <th></th>\n",
       "      <th>Canton</th>\n",
       "      <th>Unemployment Rate</th>\n",
       "      <th>Registered Unemployed</th>\n",
       "      <th>Registered Job Seekers</th>\n",
       "      <th>Non-unemployed Job Seekers</th>\n",
       "      <th>Total Active Population</th>\n",
       "    </tr>\n",
       "  </thead>\n",
       "  <tbody>\n",
       "    <tr>\n",
       "      <th>1</th>\n",
       "      <td>Zürich</td>\n",
       "      <td>3.7</td>\n",
       "      <td>30083.916667</td>\n",
       "      <td>36785.916667</td>\n",
       "      <td>6702.000000</td>\n",
       "      <td>994213.963964</td>\n",
       "    </tr>\n",
       "    <tr>\n",
       "      <th>2</th>\n",
       "      <td>Bern/Berne</td>\n",
       "      <td>2.7</td>\n",
       "      <td>15283.166667</td>\n",
       "      <td>20084.250000</td>\n",
       "      <td>4801.083333</td>\n",
       "      <td>743861.111111</td>\n",
       "    </tr>\n",
       "    <tr>\n",
       "      <th>3</th>\n",
       "      <td>Luzern</td>\n",
       "      <td>2.1</td>\n",
       "      <td>4601.750000</td>\n",
       "      <td>7466.583333</td>\n",
       "      <td>2864.833333</td>\n",
       "      <td>355551.587302</td>\n",
       "    </tr>\n",
       "    <tr>\n",
       "      <th>4</th>\n",
       "      <td>Uri</td>\n",
       "      <td>1.0</td>\n",
       "      <td>201.500000</td>\n",
       "      <td>363.416667</td>\n",
       "      <td>161.916667</td>\n",
       "      <td>36341.666667</td>\n",
       "    </tr>\n",
       "    <tr>\n",
       "      <th>5</th>\n",
       "      <td>Schwyz</td>\n",
       "      <td>1.8</td>\n",
       "      <td>1537.166667</td>\n",
       "      <td>2289.583333</td>\n",
       "      <td>752.416667</td>\n",
       "      <td>127199.074074</td>\n",
       "    </tr>\n",
       "  </tbody>\n",
       "</table>\n",
       "</div>"
      ],
      "text/plain": [
       "       Canton  Unemployment Rate  Registered Unemployed  \\\n",
       "1      Zürich                3.7           30083.916667   \n",
       "2  Bern/Berne                2.7           15283.166667   \n",
       "3      Luzern                2.1            4601.750000   \n",
       "4         Uri                1.0             201.500000   \n",
       "5      Schwyz                1.8            1537.166667   \n",
       "\n",
       "   Registered Job Seekers  Non-unemployed Job Seekers  Total Active Population  \n",
       "1            36785.916667                 6702.000000            994213.963964  \n",
       "2            20084.250000                 4801.083333            743861.111111  \n",
       "3             7466.583333                 2864.833333            355551.587302  \n",
       "4              363.416667                  161.916667             36341.666667  \n",
       "5             2289.583333                  752.416667            127199.074074  "
      ]
     },
     "execution_count": 8,
     "metadata": {},
     "output_type": "execute_result"
    }
   ],
   "source": [
    "df['Total Active Population'] = df['Registered Job Seekers']/(0.01*df['Unemployment Rate'])\n",
    "df.head()"
   ]
  },
  {
   "cell_type": "code",
   "execution_count": null,
   "metadata": {
    "collapsed": true
   },
   "outputs": [],
   "source": []
  },
  {
   "cell_type": "markdown",
   "metadata": {},
   "source": [
    "### 3. Use the amstat website again to find a dataset that includes the unemployment rates in Switzerland at recent date, this time making a distinction between Swiss and foreign workers.\n",
    "\n",
    "Website: https://www.amstat.ch/v2/index.jsp\n",
    "\n",
    "The Economic Secretary (SECO) releases a monthly report on the state of the employment market. In the latest report (September 2017), it is noted that there is a discrepancy between the unemployment rates for foreign (5.1%) and Swiss (2.2%) workers.\n",
    "\n",
    "Show the difference in unemployment rates between the two categories in each canton on a Choropleth map (hint The easy way is to show two separate maps, but can you think of something better?). Where are the differences most visible? Why do you think that is?\n",
    "\n",
    "Now let's refine the analysis by adding the differences between age groups. As you may have guessed it is nearly impossible to plot so many variables on a map. Make a bar plot, which is a better suited visualization tool for this type of multivariate data."
   ]
  },
  {
   "cell_type": "code",
   "execution_count": null,
   "metadata": {
    "collapsed": true
   },
   "outputs": [],
   "source": []
  },
  {
   "cell_type": "markdown",
   "metadata": {},
   "source": [
    "## Unemployment difference based on Nationality"
   ]
  },
  {
   "cell_type": "code",
   "execution_count": null,
   "metadata": {
    "collapsed": true
   },
   "outputs": [],
   "source": [
    "# read file from given location\n",
    "filenames = glob.glob(DATA_FOLDER + \"Unemployment_Canton_Nationality.xlsx\")\n",
    "\n",
    "# if exactly one file is not found, print error\n",
    "if len(filenames) != 1:\n",
    "    print(\"File missing. Check path again!\")"
   ]
  },
  {
   "cell_type": "code",
   "execution_count": null,
   "metadata": {
    "collapsed": true
   },
   "outputs": [],
   "source": [
    "# remove first two rows, set correct header, and re-index\n",
    "df = pd.read_excel(filenames[0])\n",
    "df.columns = df.iloc[1]\n",
    "df = df.iloc[3:-1]\n",
    "df = df.reset_index(drop=True)\n",
    "\n",
    "# rename column names\n",
    "df.columns.values[0] = \"Canton\"\n",
    "df.columns.values[1] = \"Nationality\"\n",
    "df.columns.values[-2] = \"Total Rate\"\n",
    "\n",
    "# select only the required columns\n",
    "columns_needed = [\"Canton\", \"Nationality\", \"Total Rate\"]\n",
    "df = df[columns_needed]\n",
    "\n",
    "print(df.shape)\n",
    "df.head()"
   ]
  },
  {
   "cell_type": "code",
   "execution_count": null,
   "metadata": {
    "collapsed": true
   },
   "outputs": [],
   "source": [
    "# convert dtype for column from object to float for calculations\n",
    "print(df[\"Total Rate\"].dtype)\n",
    "df[\"Total Rate\"] = (df[\"Total Rate\"]).astype(\"float\")\n",
    "print(df[\"Total Rate\"].dtype)"
   ]
  },
  {
   "cell_type": "code",
   "execution_count": null,
   "metadata": {
    "collapsed": true
   },
   "outputs": [],
   "source": [
    "# range of values for each category\n",
    "print(\"Total Rate ranges from {} to {}\".format(df[\"Total Rate\"].min(), df[\"Total Rate\"].max()))\n",
    "print(\"Nationality has the following unique values: \", df.Nationality.unique())\n",
    "print(\"Canton has the following unique values: \", df.Canton.unique())"
   ]
  },
  {
   "cell_type": "code",
   "execution_count": null,
   "metadata": {
    "collapsed": true
   },
   "outputs": [],
   "source": [
    "# create dataframes based on nationality - swiss or foreign\n",
    "df_swiss = df.loc[df.Nationality == \"Schweizer\"]\n",
    "df_foreign = df.loc[df.Nationality == \"Ausländer\"]"
   ]
  },
  {
   "cell_type": "code",
   "execution_count": null,
   "metadata": {
    "collapsed": true
   },
   "outputs": [],
   "source": [
    "# re-index new dataframe\n",
    "df_swiss = df_swiss.reset_index(drop=True)\n",
    "df_swiss.head()"
   ]
  },
  {
   "cell_type": "code",
   "execution_count": null,
   "metadata": {
    "collapsed": true
   },
   "outputs": [],
   "source": [
    "# re-index new dataframe\n",
    "df_foreign = df_foreign.reset_index(drop=True)\n",
    "df_foreign.head()"
   ]
  },
  {
   "cell_type": "code",
   "execution_count": null,
   "metadata": {
    "collapsed": true
   },
   "outputs": [],
   "source": [
    "# copy the foreign unemployment rate dataframe\n",
    "difference_map = df_foreign.copy()\n",
    "\n",
    "# rename columns\n",
    "difference_map.columns.values[-1] = \"Difference\"\n",
    "difference_map[\"Nationality\"] = \"NA\"\n",
    "\n",
    "# calculate difference in unemployment rate by foreign minus swiss\n",
    "difference_map[\"Difference\"] = df_foreign[\"Total Rate\"] - df_swiss[\"Total Rate\"]\n",
    "\n",
    "# set index\n",
    "difference_map = difference_map.set_index([\"Nationality\"])\n",
    "\n",
    "print(difference_map.columns)\n",
    "\n",
    "difference_map"
   ]
  },
  {
   "cell_type": "code",
   "execution_count": null,
   "metadata": {
    "collapsed": true
   },
   "outputs": [],
   "source": [
    "# we create a chloropeth with unemployment rate for all ages in european countries\n",
    "difference_unemployment_rate_nationality = folium.Map([46.8, 8.25], tiles='Mapbox Bright', zoom_start=8)\n",
    "\n",
    "legend = \"Difference in unemployment rate = (Foreign - Swiss) workers\"\n",
    "\n",
    "difference_unemployment_rate_nationality.choropleth(swiss_data, \n",
    "             name=legend,\n",
    "             data=difference_map, \n",
    "             columns=['Canton','Difference'],\n",
    "             key_on='feature.properties.name',\n",
    "             fill_color='YlOrRd',\n",
    "             topojson='objects.cantons',\n",
    "             line_color='gray',\n",
    "             legend_name=legend,\n",
    "             threshold_scale=list(difference_map[\"Difference\"].quantile([0, .15, .25, .5, .9, 1.]).values))\n",
    "\n",
    "folium.LayerControl().add_to(difference_unemployment_rate_nationality)\n",
    "difference_unemployment_rate_nationality.save('Difference_Unemployment_Rate_Nationality.html')\n",
    "difference_unemployment_rate_nationality"
   ]
  },
  {
   "cell_type": "markdown",
   "metadata": {},
   "source": [
    "### Observations:\n",
    "\n",
    "We see that the biggest differences between foreign workers being unemployed as compared to swiss workers is in the cantons of Jura and Valais. These cantons have higher number of foreign workers and are not near the major universities or cities such as Geneva, Lausanne or Zurich, which otherwise would have given more jobs. There are also cultural differences in these regions which can be a shock for foreign workers."
   ]
  },
  {
   "cell_type": "markdown",
   "metadata": {},
   "source": [
    "## Unemployment difference based on Age Groups"
   ]
  },
  {
   "cell_type": "code",
   "execution_count": null,
   "metadata": {
    "collapsed": true
   },
   "outputs": [],
   "source": [
    "# read file from given location\n",
    "filenames = glob.glob(DATA_FOLDER + \"Unemployment_Canton_Age_Groups.xlsx\")\n",
    "\n",
    "# if exactly one file is not found, print error\n",
    "if len(filenames) != 1:\n",
    "    print(\"File missing. Check path again!\")"
   ]
  },
  {
   "cell_type": "code",
   "execution_count": null,
   "metadata": {
    "collapsed": true
   },
   "outputs": [],
   "source": [
    "# remove first two rows, set correct header, and re-index\n",
    "df = pd.read_excel(filenames[0])\n",
    "df.columns = df.iloc[1]\n",
    "df = df.iloc[3:-1]\n",
    "df = df.reset_index(drop=True)\n",
    "\n",
    "# rename column names\n",
    "df.columns.values[0] = \"Canton\"\n",
    "df.columns.values[1] = \"Age Group\"\n",
    "df.columns.values[-2] = \"Total Rate\"\n",
    "\n",
    "# select only the required columns\n",
    "columns_needed = [\"Canton\", \"Age Group\", \"Total Rate\"]\n",
    "df = df[columns_needed]\n",
    "\n",
    "print(df.shape)\n",
    "df.head()"
   ]
  },
  {
   "cell_type": "code",
   "execution_count": null,
   "metadata": {
    "collapsed": true
   },
   "outputs": [],
   "source": [
    "# convert dtype for column from object to float for calculations\n",
    "print(df[\"Total Rate\"].dtype)\n",
    "df[\"Total Rate\"] = (df[\"Total Rate\"]).astype(\"float\")\n",
    "print(df[\"Total Rate\"].dtype)"
   ]
  },
  {
   "cell_type": "code",
   "execution_count": null,
   "metadata": {
    "collapsed": true
   },
   "outputs": [],
   "source": [
    "# range of values for each category\n",
    "print(\"Total Rate ranges from {} to {}\".format(df[\"Total Rate\"].min(), df[\"Total Rate\"].max()))\n",
    "print(\"Age Group has the following unique values: \", df[\"Age Group\"].unique())\n",
    "print(\"Canton has the following unique values: \", df.Canton.unique())"
   ]
  },
  {
   "cell_type": "code",
   "execution_count": null,
   "metadata": {
    "collapsed": true
   },
   "outputs": [],
   "source": [
    "# index by age groups on Y axis and cantons on X axis\n",
    "df_age_groups = df.reset_index().pivot(index=\"Age Group\", columns=\"Canton\", values=\"Total Rate\")\n",
    "df_age_groups"
   ]
  },
  {
   "cell_type": "code",
   "execution_count": null,
   "metadata": {
    "collapsed": true
   },
   "outputs": [],
   "source": [
    "# for better visualization, divide table into two halves\n",
    "df_age_groups1 = df_age_groups.iloc[0:5]\n",
    "df_age_groups2 = df_age_groups.iloc[5:,]"
   ]
  },
  {
   "cell_type": "code",
   "execution_count": null,
   "metadata": {
    "collapsed": true
   },
   "outputs": [],
   "source": [
    "# plot bar graphs\n",
    "df_age_groups1.plot.bar(figsize=(18, 10))\n",
    "\n",
    "plt.title(\"Unemployment Rate by Age Groups for all Swiss Cantons\", fontsize=15)\n",
    "plt.xlabel(\"Total Unemployment Rate\")\n",
    "plt.ylabel(\"Age Groups\")\n",
    "plt.show()"
   ]
  },
  {
   "cell_type": "code",
   "execution_count": null,
   "metadata": {
    "collapsed": true
   },
   "outputs": [],
   "source": [
    "df_age_groups2.plot.bar(figsize=(18, 10))\n",
    "\n",
    "plt.title(\"Unemployment Rate by Age Groups for all Swiss Cantons\", fontsize=15)\n",
    "plt.xlabel(\"Total Unemployment Rate\")\n",
    "plt.ylabel(\"Age Groups\")\n",
    "plt.show()"
   ]
  },
  {
   "cell_type": "markdown",
   "metadata": {},
   "source": [
    "### 4. BONUS: using the map you have just built, and the geographical information contained in it, could you give a rough estimate of the difference in unemployment rates between the areas divided by the Röstigraben?"
   ]
  }
 ],
 "metadata": {
  "kernelspec": {
   "display_name": "Python 3",
   "language": "python",
   "name": "python3"
  },
  "language_info": {
   "codemirror_mode": {
    "name": "ipython",
    "version": 3
   },
   "file_extension": ".py",
   "mimetype": "text/x-python",
   "name": "python",
   "nbconvert_exporter": "python",
   "pygments_lexer": "ipython3",
   "version": "3.6.1"
  }
 },
 "nbformat": 4,
 "nbformat_minor": 2
}
