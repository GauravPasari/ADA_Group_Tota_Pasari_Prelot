{
 "cells": [
  {
   "cell_type": "markdown",
   "metadata": {
    "collapsed": true
   },
   "source": [
    "# Homework 2"
   ]
  },
  {
   "cell_type": "code",
   "execution_count": null,
   "metadata": {
    "collapsed": true
   },
   "outputs": [],
   "source": [
    "# Imports\n",
    "import json\n",
    "import difflib \n",
    "import pandas as pd\n",
    "import numpy as np\n",
    "from bs4 import BeautifulSoup\n",
    "from urllib.request import Request, urlopen"
   ]
  },
  {
   "cell_type": "markdown",
   "metadata": {},
   "source": [
    "### Question 1\n",
    "Obtain the 200 top-ranking universities in www.topuniversities.com (ranking 2018). In particular, extract the following fields for each university: name, rank, country and region, number of faculty members (international and total) and number of students (international and total). Some information is not available in the main list and you have to find them in the details page. Store the resulting dataset in a pandas DataFrame and answer the following questions:"
   ]
  },
  {
   "cell_type": "code",
   "execution_count": null,
   "metadata": {},
   "outputs": [],
   "source": [
    "# Load the data json file\n",
    "top_universities_url = 'https://www.topuniversities.com/sites/default/files/qs-rankings-data/357051_indicators.txt'\n",
    "university_url = 'https://www.topuniversities.com'\n",
    "hdr = {'User-Agent': 'Mozilla/5.0'}\n",
    "request = Request(top_universities_url, headers=hdr)\n",
    "page = urlopen(request)\n",
    "data = json.loads(page.read().decode())\n",
    "\n",
    "# Create an empty dataframe\n",
    "cols = ['University','Rank', 'Country', 'Region', 'International Faculty', 'Total Faculty', 'International Students', 'Total Students']\n",
    "df = pd.DataFrame(columns=cols)\n",
    "\n",
    "# Parse json for each ranking\n",
    "for item in range(200):\n",
    "#   Obtain rank, country, region, and university name information\n",
    "    rank = int(data['data'][item]['overall_rank'].strip('='))\n",
    "    country = data['data'][item]['location']\n",
    "    region = data['data'][item]['region']\n",
    "    name = data['data'][item]['uni']\n",
    "    soup = BeautifulSoup(name, \"lxml\")\n",
    "    link = soup.find_all('a')[0]['href']\n",
    "    name = soup.find_all('a')[0].text\n",
    "    \n",
    "#   Retrieve faculty and student data from the details page\n",
    "    request = Request(university_url+link, headers=hdr)\n",
    "    page = urlopen(request)\n",
    "    soup = BeautifulSoup(page, \"lxml\")\n",
    "\n",
    "    faculty_total = 0\n",
    "    inter_faculty_num = 0\n",
    "    total_students_num = 0\n",
    "    inter_students_num = 0\n",
    "\n",
    "    faculty = soup.find('div', attrs={'class':'total faculty'})\n",
    "    if faculty:\n",
    "        faculty_total = (faculty.find('div', attrs={'class':'number'}).text).strip('\\t\\r\\n ')\n",
    "        faculty_total = int(faculty_total.replace(',', ''))\n",
    "\n",
    "    inter_faculty = soup.find('div', attrs={'class':'inter faculty'})\n",
    "    if inter_faculty:\n",
    "        inter_faculty_num = (inter_faculty.find('div', attrs={'class':'number'}).text).replace('\\t\\r\\n ', '')\n",
    "        inter_faculty_num = int(inter_faculty_num.replace(',', ''))\n",
    "\n",
    "    total_students = soup.find('div', attrs={'class':'total student'})\n",
    "    if total_students:\n",
    "        total_students_num = (total_students.find('div', attrs={'class':'number'}).text).replace('\\t\\r\\n ', '')\n",
    "        total_students_num = int(total_students_num.replace(',', ''))\n",
    "\n",
    "    inter_students = soup.find('div', attrs={'class':'total inter'})\n",
    "    if inter_students:\n",
    "        inter_students_num = (inter_students.find('div', attrs={'class':'number'}).text).replace('\\t\\r\\n ', '')\n",
    "        inter_students_num = int(inter_students_num.replace(',', ''))\n",
    "\n",
    "#   Append each row of data to the dataframe\n",
    "    df2 = pd.DataFrame([[name, rank, country, region, inter_faculty_num, faculty_total, inter_students_num, total_students_num]], columns=cols)\n",
    "    df = df.append(df2, ignore_index=True)\n",
    "\n",
    "# Create a copy of the dataframe for question 3\n",
    "t1 = df.copy()\n",
    "\n",
    "df.head(n=10)"
   ]
  },
  {
   "cell_type": "code",
   "execution_count": null,
   "metadata": {},
   "outputs": [],
   "source": [
    "# Map country to region for question 2\n",
    "map_country_region = {t1['Country'][k]: t1['Region'][k] for k in range(200)}\n",
    "\n",
    "# Handle exceptions\n",
    "map_country_region['Luxembourg'] = 'Europe'\n",
    "map_country_region['Russian Federation'] = 'Europe'"
   ]
  },
  {
   "cell_type": "markdown",
   "metadata": {},
   "source": [
    "## Hint: Plot your data below using bar charts and describe briefly what you observed. Assume 'best universities' to refer to a top-k. Here our k = 10."
   ]
  },
  {
   "cell_type": "markdown",
   "metadata": {},
   "source": [
    "#### (a) Which are the best universities in terms of ratio between faculty members and students?"
   ]
  },
  {
   "cell_type": "code",
   "execution_count": null,
   "metadata": {},
   "outputs": [],
   "source": [
    "# Replace all zero's with NaN values so ratio calculations can be made\n",
    "t1 = t1.replace(0, np.NaN)\n",
    "ratios = t1.copy()\n",
    "\n",
    "# Calculate the ratio of total faculty to total students\n",
    "ratios['Faculty-Student Ratio'] = ratios['Total Faculty']/ratios['Total Students']\n",
    "\n",
    "# Sort the ratios by ascending order\n",
    "fs_ratios = ratios.sort_values('Faculty-Student Ratio', ascending=False)\n",
    "fs_ratios_a = fs_ratios[['University', 'Faculty-Student Ratio']].head(n=10)"
   ]
  },
  {
   "cell_type": "markdown",
   "metadata": {},
   "source": [
    "The top 10 universities in terms of faculty-student ratio are:"
   ]
  },
  {
   "cell_type": "code",
   "execution_count": null,
   "metadata": {},
   "outputs": [],
   "source": [
    "fs_ratios_a"
   ]
  },
  {
   "cell_type": "markdown",
   "metadata": {},
   "source": [
    "#### (b) Which are the best universities in terms of ratio of international students?"
   ]
  },
  {
   "cell_type": "code",
   "execution_count": null,
   "metadata": {},
   "outputs": [],
   "source": [
    "# Calculate the ratio of international students to total students\n",
    "ratios['International Student Ratio'] = ratios['International Students']/ratios['Total Students']\n",
    "\n",
    "# Sort the ratios by ascending order\n",
    "inter_ratio = ratios.sort_values('International Student Ratio', ascending=False)\n",
    "inter_ratio_b = inter_ratio[['University', 'International Student Ratio']].head(n=10)"
   ]
  },
  {
   "cell_type": "markdown",
   "metadata": {},
   "source": [
    "The top 10 universities in terms of international student ratio are:"
   ]
  },
  {
   "cell_type": "code",
   "execution_count": null,
   "metadata": {},
   "outputs": [],
   "source": [
    "inter_ratio_b"
   ]
  },
  {
   "cell_type": "markdown",
   "metadata": {},
   "source": [
    "#### (c) Aggregate answers (a) and (b) by country"
   ]
  },
  {
   "cell_type": "code",
   "execution_count": null,
   "metadata": {},
   "outputs": [],
   "source": [
    "fs_ratios_c = fs_ratios[['University', 'Country', 'Faculty-Student Ratio']].head(n=10)\n",
    "\n",
    "# Aggregate faculty-student ratios by country and university\n",
    "fs_ratios_c = fs_ratios_c.set_index(['Country', 'University'])\n",
    "fs_ratios_c = fs_ratios_c.sort_index()\n",
    "\n",
    "inter_ratios_c = inter_ratio[['University', 'Country', 'International Student Ratio']].head(n=10)\n",
    "\n",
    "# Aggregate international student ratios by country and university\n",
    "inter_ratios_c = inter_ratios_c.set_index(['Country', 'University'])\n",
    "inter_ratios_c = inter_ratios_c.sort_index()"
   ]
  },
  {
   "cell_type": "markdown",
   "metadata": {},
   "source": [
    "The top 10 universities for faculty-student ratio agreggated by country are:"
   ]
  },
  {
   "cell_type": "code",
   "execution_count": null,
   "metadata": {
    "scrolled": true
   },
   "outputs": [],
   "source": [
    "fs_ratios_c"
   ]
  },
  {
   "cell_type": "markdown",
   "metadata": {},
   "source": [
    "The top 10 universities for international student ratio agreggated by country are:"
   ]
  },
  {
   "cell_type": "code",
   "execution_count": null,
   "metadata": {},
   "outputs": [],
   "source": [
    "inter_ratios_c"
   ]
  },
  {
   "cell_type": "markdown",
   "metadata": {},
   "source": [
    "#### (d) Aggregate answers (a) and (b) by region"
   ]
  },
  {
   "cell_type": "code",
   "execution_count": null,
   "metadata": {},
   "outputs": [],
   "source": [
    "fs_ratios_d = fs_ratios[['University', 'Region', 'Faculty-Student Ratio']].head(n=10)\n",
    "\n",
    "# Aggregate faculty-student ratios by region and university\n",
    "fs_ratios_d = fs_ratios_d.set_index(['Region', 'University'])\n",
    "fs_ratios_d = fs_ratios_d.sort_index()\n",
    "\n",
    "inter_ratios_d = inter_ratio[['University', 'Region', 'International Student Ratio']].head(n=10)\n",
    "\n",
    "# Aggregate international student ratios by region and university\n",
    "inter_ratios_d = inter_ratios_d.set_index(['Region', 'University'])\n",
    "inter_ratios_d = inter_ratios_d.sort_index()"
   ]
  },
  {
   "cell_type": "markdown",
   "metadata": {},
   "source": [
    "The top 10 universities for faculty-student ratio agreggated by region are:"
   ]
  },
  {
   "cell_type": "code",
   "execution_count": null,
   "metadata": {},
   "outputs": [],
   "source": [
    "fs_ratios_d"
   ]
  },
  {
   "cell_type": "markdown",
   "metadata": {},
   "source": [
    "The top 10 universities for international student ratio agreggated by region are:"
   ]
  },
  {
   "cell_type": "code",
   "execution_count": null,
   "metadata": {},
   "outputs": [],
   "source": [
    "inter_ratios_d"
   ]
  },
  {
   "cell_type": "markdown",
   "metadata": {},
   "source": [
    "### Question 2\n",
    "Obtain the 200 top-ranking universities in www.timeshighereducation.com (ranking 2018). Repeat the analysis of the previous point and discuss briefly what you observed."
   ]
  },
  {
   "cell_type": "code",
   "execution_count": null,
   "metadata": {},
   "outputs": [],
   "source": [
    "# Load the data json file\n",
    "top_universities_url = 'https://www.timeshighereducation.com/sites/default/files/the_data_rankings/world_university_rankings_2018_limit0_369a9045a203e176392b9fb8f8c1cb2a.json'\n",
    "hdr = {'User-Agent': 'Mozilla/5.0'}\n",
    "request = Request(top_universities_url, headers=hdr)\n",
    "page = urlopen(request)\n",
    "data = json.loads(page.read().decode())['data']\n",
    "\n",
    "# Create an empty dataframe\n",
    "cols = ['University','Rank', 'Country', 'Region', 'Faculty-Student Ratio', 'International Student Ratio']\n",
    "df = pd.DataFrame(columns=cols)\n",
    "\n",
    "# Parse json for each ranking\n",
    "for item in range(200):\n",
    "#   Obtain university name, rank, country, student-staff ratio, and international student percent\n",
    "    name = data[item]['name']\n",
    "    rank = int(data[item]['rank'].strip('='))\n",
    "    country = data[item]['location']\n",
    "    stud_staff_ratio = float(data[item]['stats_student_staff_ratio'])\n",
    "    inter_stud_percent = int(data[item]['stats_pc_intl_students'].strip('%'))/100.0\n",
    "    \n",
    "#   Append each row of data to the dataframe\n",
    "    df2 = pd.DataFrame([[name, rank, country, map_country_region[country], stud_staff_ratio, inter_stud_percent]], columns=cols)\n",
    "    df = df.append(df2, ignore_index=True)\n",
    "    \n",
    "# Create a copy of the dataframe for question 3\n",
    "t2 = df.copy()\n",
    "\n",
    "df.head(n=10)"
   ]
  },
  {
   "cell_type": "markdown",
   "metadata": {},
   "source": [
    "#### (a) Which are the best universities in terms of ratio between faculty members and students?"
   ]
  },
  {
   "cell_type": "code",
   "execution_count": null,
   "metadata": {
    "collapsed": true
   },
   "outputs": [],
   "source": [
    "# Replace all zero's with NaN values so ratio calculations can be made\n",
    "t2 = t2.replace(0, np.NaN)\n",
    "ratios = t2.copy()\n",
    "\n",
    "# Sort the faculty-student ratios by ascending order\n",
    "fs_ratios = ratios.sort_values('Faculty-Student Ratio', ascending=False)\n",
    "fs_ratios_a = fs_ratios[['University', 'Faculty-Student Ratio']].head(n=10)"
   ]
  },
  {
   "cell_type": "markdown",
   "metadata": {},
   "source": [
    "The top 10 universities in terms of faculty-student ratio are:"
   ]
  },
  {
   "cell_type": "code",
   "execution_count": null,
   "metadata": {},
   "outputs": [],
   "source": [
    "fs_ratios_a"
   ]
  },
  {
   "cell_type": "markdown",
   "metadata": {},
   "source": [
    "#### (b) Which are the best universities in terms of ratio of international students?"
   ]
  },
  {
   "cell_type": "code",
   "execution_count": null,
   "metadata": {
    "collapsed": true
   },
   "outputs": [],
   "source": [
    "# Sort the international student ratios by ascending order\n",
    "inter_ratio = ratios.sort_values('International Student Ratio', ascending=False)\n",
    "inter_ratio_b = inter_ratio[['University', 'International Student Ratio']].head(n=10)"
   ]
  },
  {
   "cell_type": "markdown",
   "metadata": {},
   "source": [
    "The top 10 universities in terms of international student ratio are:"
   ]
  },
  {
   "cell_type": "code",
   "execution_count": null,
   "metadata": {},
   "outputs": [],
   "source": [
    "inter_ratio_b"
   ]
  },
  {
   "cell_type": "markdown",
   "metadata": {},
   "source": [
    "#### (c) Aggregate answers (a) and (b) by country"
   ]
  },
  {
   "cell_type": "code",
   "execution_count": null,
   "metadata": {
    "collapsed": true
   },
   "outputs": [],
   "source": [
    "fs_ratios_c = fs_ratios[['University', 'Country', 'Faculty-Student Ratio']].head(n=10)\n",
    "\n",
    "# Aggregate faculty-student ratios by country and university\n",
    "fs_ratios_c = fs_ratios_c.set_index(['Country', 'University'])\n",
    "fs_ratios_c = fs_ratios_c.sort_index()\n",
    "\n",
    "inter_ratios_c = inter_ratio[['University', 'Country', 'International Student Ratio']].head(n=10)\n",
    "\n",
    "# Aggregate international student ratios by country and university\n",
    "inter_ratios_c = inter_ratios_c.set_index(['Country', 'University'])\n",
    "inter_ratios_c = inter_ratios_c.sort_index()"
   ]
  },
  {
   "cell_type": "markdown",
   "metadata": {},
   "source": [
    "The top 10 universities for faculty-student ratio agreggated by country are:"
   ]
  },
  {
   "cell_type": "code",
   "execution_count": null,
   "metadata": {
    "scrolled": true
   },
   "outputs": [],
   "source": [
    "fs_ratios_c"
   ]
  },
  {
   "cell_type": "markdown",
   "metadata": {},
   "source": [
    "The top 10 universities for international student ratio agreggated by country are:"
   ]
  },
  {
   "cell_type": "code",
   "execution_count": null,
   "metadata": {},
   "outputs": [],
   "source": [
    "inter_ratios_c"
   ]
  },
  {
   "cell_type": "markdown",
   "metadata": {},
   "source": [
    "#### (d) Aggregate answers (a) and (b) by region"
   ]
  },
  {
   "cell_type": "code",
   "execution_count": null,
   "metadata": {
    "collapsed": true
   },
   "outputs": [],
   "source": [
    "fs_ratios_d = fs_ratios[['University', 'Region', 'Faculty-Student Ratio']].head(n=10)\n",
    "\n",
    "# Aggregate faculty-student ratios by region and university\n",
    "fs_ratios_d = fs_ratios_d.set_index(['Region', 'University'])\n",
    "fs_ratios_d = fs_ratios_d.sort_index()\n",
    "\n",
    "inter_ratios_d = inter_ratio[['University', 'Region', 'International Student Ratio']].head(n=10)\n",
    "\n",
    "# Aggregate international student ratios by region and university\n",
    "inter_ratios_d = inter_ratios_d.set_index(['Region', 'University'])\n",
    "inter_ratios_d = inter_ratios_d.sort_index()"
   ]
  },
  {
   "cell_type": "markdown",
   "metadata": {},
   "source": [
    "The top 10 universities for faculty-student ratio agreggated by region are:"
   ]
  },
  {
   "cell_type": "code",
   "execution_count": null,
   "metadata": {},
   "outputs": [],
   "source": [
    "fs_ratios_d"
   ]
  },
  {
   "cell_type": "markdown",
   "metadata": {},
   "source": [
    "The top 10 universities for international student ratio agreggated by region are:"
   ]
  },
  {
   "cell_type": "code",
   "execution_count": null,
   "metadata": {},
   "outputs": [],
   "source": [
    "inter_ratios_d"
   ]
  },
  {
   "cell_type": "markdown",
   "metadata": {},
   "source": [
    "## Question 3\n",
    "\n",
    "#### Merge the two DataFrames created in questions 1 and 2 using university names. Match universities' names as well as you can, and explain your strategy. Keep track of the original position in both rankings.\n",
    "\n",
    "Our strategy is to create an index on univerity names and perform an approximated matching to homogenize the university names. We conduct the matching using the [difflib.get_close_matches](https://docs.python.org/2/library/difflib.html) functionality which finds the best matches of a value from a list. In this case, the university name in Table 1 is matched from a list of close values of university names from Table 2. Then an outer join is performed. "
   ]
  },
  {
   "cell_type": "code",
   "execution_count": null,
   "metadata": {},
   "outputs": [],
   "source": [
    "t2.index = t2['University']\n",
    "# Get closest match on university name in both tables\n",
    "t1['University'] = t1['University'].map(lambda x: (difflib.get_close_matches(x, t2.index)[:1] or [None])[0])\n",
    "\n",
    "# Rename the rank columns for each dataset accordingly\n",
    "t1 = t1.rename(columns={'Rank':'Rank_QS'})\n",
    "t2 = t2.rename(columns={'Rank':'Rank_THE'})\n",
    "\n",
    "# Perform an outer merge on the tables\n",
    "merged_df = pd.merge(t1, t2, how='outer')\n",
    "merged_df.head(n=10)"
   ]
  },
  {
   "cell_type": "markdown",
   "metadata": {},
   "source": [
    "## Question 4\n",
    "#### Find useful insights in the data by performing an exploratory analysis. Can you find a strong correlation between any pair of variables in the dataset you just created? Example: when a university is strong in its international dimension, can you observe a consistency both for students and faculty members?"
   ]
  },
  {
   "cell_type": "code",
   "execution_count": null,
   "metadata": {
    "collapsed": true
   },
   "outputs": [],
   "source": [
    "# Answer"
   ]
  },
  {
   "cell_type": "markdown",
   "metadata": {},
   "source": [
    "#### Explanation:\n"
   ]
  },
  {
   "cell_type": "markdown",
   "metadata": {},
   "source": [
    "## Question 5\n",
    "Can you find the best university taking in consideration both rankings? Explain your approach."
   ]
  },
  {
   "cell_type": "code",
   "execution_count": null,
   "metadata": {
    "collapsed": true
   },
   "outputs": [],
   "source": [
    "# Answer"
   ]
  },
  {
   "cell_type": "markdown",
   "metadata": {},
   "source": [
    "#### Explanation of Approach"
   ]
  }
 ],
 "metadata": {
  "kernelspec": {
   "display_name": "Python 3",
   "language": "python",
   "name": "python3"
  },
  "language_info": {
   "codemirror_mode": {
    "name": "ipython",
    "version": 3
   },
   "file_extension": ".py",
   "mimetype": "text/x-python",
   "name": "python",
   "nbconvert_exporter": "python",
   "pygments_lexer": "ipython3",
   "version": "3.6.1"
  }
 },
 "nbformat": 4,
 "nbformat_minor": 2
}
