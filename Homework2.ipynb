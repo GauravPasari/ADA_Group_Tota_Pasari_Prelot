{
 "cells": [
  {
   "cell_type": "markdown",
   "metadata": {
    "collapsed": true
   },
   "source": [
    "# Homework 2"
   ]
  },
  {
   "cell_type": "code",
   "execution_count": 1,
   "metadata": {
    "collapsed": true
   },
   "outputs": [],
   "source": [
    "# Imports\n",
    "import json\n",
    "import pandas as pd\n",
    "import numpy as np\n",
    "from bs4 import BeautifulSoup\n",
    "from urllib.request import Request, urlopen"
   ]
  },
  {
   "cell_type": "markdown",
   "metadata": {},
   "source": [
    "### Question 1\n",
    "Obtain the 200 top-ranking universities in www.topuniversities.com (ranking 2018). In particular, extract the following fields for each university: name, rank, country and region, number of faculty members (international and total) and number of students (international and total). Some information is not available in the main list and you have to find them in the details page. Store the resulting dataset in a pandas DataFrame and answer the following questions:"
   ]
  },
  {
   "cell_type": "code",
   "execution_count": 2,
   "metadata": {},
   "outputs": [
    {
     "data": {
      "text/html": [
       "<div>\n",
       "<style>\n",
       "    .dataframe thead tr:only-child th {\n",
       "        text-align: right;\n",
       "    }\n",
       "\n",
       "    .dataframe thead th {\n",
       "        text-align: left;\n",
       "    }\n",
       "\n",
       "    .dataframe tbody tr th {\n",
       "        vertical-align: top;\n",
       "    }\n",
       "</style>\n",
       "<table border=\"1\" class=\"dataframe\">\n",
       "  <thead>\n",
       "    <tr style=\"text-align: right;\">\n",
       "      <th></th>\n",
       "      <th>University</th>\n",
       "      <th>Rank</th>\n",
       "      <th>Country</th>\n",
       "      <th>Region</th>\n",
       "      <th>International Faculty</th>\n",
       "      <th>Total Faculty</th>\n",
       "      <th>International Students</th>\n",
       "      <th>Total Students</th>\n",
       "    </tr>\n",
       "  </thead>\n",
       "  <tbody>\n",
       "    <tr>\n",
       "      <th>0</th>\n",
       "      <td>Massachusetts Institute of Technology (MIT)</td>\n",
       "      <td>1</td>\n",
       "      <td>United States</td>\n",
       "      <td>North America</td>\n",
       "      <td>1679</td>\n",
       "      <td>2982</td>\n",
       "      <td>3717</td>\n",
       "      <td>11067</td>\n",
       "    </tr>\n",
       "    <tr>\n",
       "      <th>1</th>\n",
       "      <td>Stanford University</td>\n",
       "      <td>2</td>\n",
       "      <td>United States</td>\n",
       "      <td>North America</td>\n",
       "      <td>2042</td>\n",
       "      <td>4285</td>\n",
       "      <td>3611</td>\n",
       "      <td>15878</td>\n",
       "    </tr>\n",
       "    <tr>\n",
       "      <th>2</th>\n",
       "      <td>Harvard University</td>\n",
       "      <td>3</td>\n",
       "      <td>United States</td>\n",
       "      <td>North America</td>\n",
       "      <td>1311</td>\n",
       "      <td>4350</td>\n",
       "      <td>5266</td>\n",
       "      <td>22429</td>\n",
       "    </tr>\n",
       "    <tr>\n",
       "      <th>3</th>\n",
       "      <td>California Institute of Technology (Caltech)</td>\n",
       "      <td>4</td>\n",
       "      <td>United States</td>\n",
       "      <td>North America</td>\n",
       "      <td>350</td>\n",
       "      <td>953</td>\n",
       "      <td>647</td>\n",
       "      <td>2255</td>\n",
       "    </tr>\n",
       "    <tr>\n",
       "      <th>4</th>\n",
       "      <td>University of Cambridge</td>\n",
       "      <td>5</td>\n",
       "      <td>United Kingdom</td>\n",
       "      <td>Europe</td>\n",
       "      <td>2278</td>\n",
       "      <td>5490</td>\n",
       "      <td>6699</td>\n",
       "      <td>18770</td>\n",
       "    </tr>\n",
       "  </tbody>\n",
       "</table>\n",
       "</div>"
      ],
      "text/plain": [
       "                                     University Rank         Country  \\\n",
       "0  Massachusetts Institute of Technology (MIT)     1   United States   \n",
       "1                           Stanford University    2   United States   \n",
       "2                            Harvard University    3   United States   \n",
       "3  California Institute of Technology (Caltech)    4   United States   \n",
       "4                       University of Cambridge    5  United Kingdom   \n",
       "\n",
       "          Region International Faculty Total Faculty International Students  \\\n",
       "0  North America                  1679          2982                   3717   \n",
       "1  North America                  2042          4285                   3611   \n",
       "2  North America                  1311          4350                   5266   \n",
       "3  North America                   350           953                    647   \n",
       "4         Europe                  2278          5490                   6699   \n",
       "\n",
       "  Total Students  \n",
       "0          11067  \n",
       "1          15878  \n",
       "2          22429  \n",
       "3           2255  \n",
       "4          18770  "
      ]
     },
     "execution_count": 2,
     "metadata": {},
     "output_type": "execute_result"
    }
   ],
   "source": [
    "# Load the data json file\n",
    "top_universities_url = 'https://www.topuniversities.com/sites/default/files/qs-rankings-data/357051_indicators.txt'\n",
    "university_url = 'https://www.topuniversities.com'\n",
    "hdr = {'User-Agent': 'Mozilla/5.0'}\n",
    "request = Request(top_universities_url, headers=hdr)\n",
    "page = urlopen(request)\n",
    "data = json.loads(page.read().decode())\n",
    "\n",
    "# Create an empty dataframe\n",
    "cols = ['University','Rank', 'Country', 'Region', 'International Faculty', 'Total Faculty', 'International Students', 'Total Students']\n",
    "df = pd.DataFrame(columns=cols)\n",
    "\n",
    "# Parse json for each ranking\n",
    "for item in range(200):\n",
    "#   Obtain rank, country, region, and university name information\n",
    "    rank = int(data['data'][item]['overall_rank'].strip('='))\n",
    "    country = data['data'][item]['location']\n",
    "    region = data['data'][item]['region']\n",
    "    name = data['data'][item]['uni']\n",
    "    soup = BeautifulSoup(name, \"lxml\")\n",
    "    link = soup.find_all('a')[0]['href']\n",
    "    name = soup.find_all('a')[0].text\n",
    "    \n",
    "#   Retrieve faculty and student data from the details page\n",
    "    request = Request(university_url+link, headers=hdr)\n",
    "    page = urlopen(request)\n",
    "    soup = BeautifulSoup(page, \"lxml\")\n",
    "\n",
    "    faculty_total = 0\n",
    "    inter_faculty_num = 0\n",
    "    total_students_num = 0\n",
    "    inter_students_num = 0\n",
    "\n",
    "    faculty = soup.find('div', attrs={'class':'total faculty'})\n",
    "    if faculty:\n",
    "        faculty_total = (faculty.find('div', attrs={'class':'number'}).text).strip('\\t\\r\\n ')\n",
    "        faculty_total = int(faculty_total.replace(',', ''))\n",
    "\n",
    "    inter_faculty = soup.find('div', attrs={'class':'inter faculty'})\n",
    "    if inter_faculty:\n",
    "        inter_faculty_num = (inter_faculty.find('div', attrs={'class':'number'}).text).replace('\\t\\r\\n ', '')\n",
    "        inter_faculty_num = int(inter_faculty_num.replace(',', ''))\n",
    "\n",
    "    total_students = soup.find('div', attrs={'class':'total student'})\n",
    "    if total_students:\n",
    "        total_students_num = (total_students.find('div', attrs={'class':'number'}).text).replace('\\t\\r\\n ', '')\n",
    "        total_students_num = int(total_students_num.replace(',', ''))\n",
    "\n",
    "    inter_students = soup.find('div', attrs={'class':'total inter'})\n",
    "    if inter_students:\n",
    "        inter_students_num = (inter_students.find('div', attrs={'class':'number'}).text).replace('\\t\\r\\n ', '')\n",
    "        inter_students_num = int(inter_students_num.replace(',', ''))\n",
    "\n",
    "#   Append each row of data to the dataframe\n",
    "    df2 = pd.DataFrame([[name, rank, country, region, inter_faculty_num, faculty_total, inter_students_num, total_students_num]], columns=cols)\n",
    "    df = df.append(df2, ignore_index=True)\n",
    "\n",
    "df.head()"
   ]
  },
  {
   "cell_type": "markdown",
   "metadata": {},
   "source": [
    "## Hint: Plot your data below using bar charts and describe briefly what you observed. Assume 'best universities' to refer to a top-k. Here our k = 10."
   ]
  },
  {
   "cell_type": "markdown",
   "metadata": {},
   "source": [
    "#### (a) Which are the best universities in terms of ratio between faculty members and students?"
   ]
  },
  {
   "cell_type": "code",
   "execution_count": 3,
   "metadata": {
    "collapsed": true
   },
   "outputs": [],
   "source": [
    "# Answer"
   ]
  },
  {
   "cell_type": "markdown",
   "metadata": {},
   "source": [
    "#### (b) Which are the best universities in terms of ratio of international students?"
   ]
  },
  {
   "cell_type": "code",
   "execution_count": 4,
   "metadata": {
    "collapsed": true
   },
   "outputs": [],
   "source": [
    "# Answer"
   ]
  },
  {
   "cell_type": "markdown",
   "metadata": {},
   "source": [
    "#### (c) Aggregate answers (a) and (b) by country"
   ]
  },
  {
   "cell_type": "code",
   "execution_count": 5,
   "metadata": {
    "collapsed": true
   },
   "outputs": [],
   "source": [
    "# Answer"
   ]
  },
  {
   "cell_type": "markdown",
   "metadata": {},
   "source": [
    "#### (d) Aggregate answers (a) and (b) by region"
   ]
  },
  {
   "cell_type": "code",
   "execution_count": 6,
   "metadata": {
    "collapsed": true
   },
   "outputs": [],
   "source": [
    "# Answer"
   ]
  },
  {
   "cell_type": "markdown",
   "metadata": {},
   "source": [
    "### Question 2\n",
    "Obtain the 200 top-ranking universities in www.timeshighereducation.com (ranking 2018). Repeat the analysis of the previous point and discuss briefly what you observed."
   ]
  },
  {
   "cell_type": "code",
   "execution_count": 7,
   "metadata": {},
   "outputs": [
    {
     "data": {
      "text/html": [
       "<div>\n",
       "<style>\n",
       "    .dataframe thead tr:only-child th {\n",
       "        text-align: right;\n",
       "    }\n",
       "\n",
       "    .dataframe thead th {\n",
       "        text-align: left;\n",
       "    }\n",
       "\n",
       "    .dataframe tbody tr th {\n",
       "        vertical-align: top;\n",
       "    }\n",
       "</style>\n",
       "<table border=\"1\" class=\"dataframe\">\n",
       "  <thead>\n",
       "    <tr style=\"text-align: right;\">\n",
       "      <th></th>\n",
       "      <th>University</th>\n",
       "      <th>Rank</th>\n",
       "      <th>Country</th>\n",
       "      <th>Student/Staff Ratio</th>\n",
       "      <th>International Studnet Ratio</th>\n",
       "    </tr>\n",
       "  </thead>\n",
       "  <tbody>\n",
       "    <tr>\n",
       "      <th>0</th>\n",
       "      <td>University of Oxford</td>\n",
       "      <td>1</td>\n",
       "      <td>United Kingdom</td>\n",
       "      <td>11.2</td>\n",
       "      <td>0.38</td>\n",
       "    </tr>\n",
       "    <tr>\n",
       "      <th>1</th>\n",
       "      <td>University of Cambridge</td>\n",
       "      <td>2</td>\n",
       "      <td>United Kingdom</td>\n",
       "      <td>10.9</td>\n",
       "      <td>0.35</td>\n",
       "    </tr>\n",
       "    <tr>\n",
       "      <th>2</th>\n",
       "      <td>California Institute of Technology</td>\n",
       "      <td>3</td>\n",
       "      <td>United States</td>\n",
       "      <td>6.5</td>\n",
       "      <td>0.27</td>\n",
       "    </tr>\n",
       "    <tr>\n",
       "      <th>3</th>\n",
       "      <td>Stanford University</td>\n",
       "      <td>3</td>\n",
       "      <td>United States</td>\n",
       "      <td>7.5</td>\n",
       "      <td>0.22</td>\n",
       "    </tr>\n",
       "    <tr>\n",
       "      <th>4</th>\n",
       "      <td>Massachusetts Institute of Technology</td>\n",
       "      <td>5</td>\n",
       "      <td>United States</td>\n",
       "      <td>8.7</td>\n",
       "      <td>0.34</td>\n",
       "    </tr>\n",
       "  </tbody>\n",
       "</table>\n",
       "</div>"
      ],
      "text/plain": [
       "                              University Rank         Country  \\\n",
       "0                   University of Oxford    1  United Kingdom   \n",
       "1                University of Cambridge    2  United Kingdom   \n",
       "2     California Institute of Technology    3   United States   \n",
       "3                    Stanford University    3   United States   \n",
       "4  Massachusetts Institute of Technology    5   United States   \n",
       "\n",
       "   Student/Staff Ratio  International Studnet Ratio  \n",
       "0                 11.2                         0.38  \n",
       "1                 10.9                         0.35  \n",
       "2                  6.5                         0.27  \n",
       "3                  7.5                         0.22  \n",
       "4                  8.7                         0.34  "
      ]
     },
     "execution_count": 7,
     "metadata": {},
     "output_type": "execute_result"
    }
   ],
   "source": [
    "# Load the data json file\n",
    "top_universities_url = 'https://www.timeshighereducation.com/sites/default/files/the_data_rankings/world_university_rankings_2018_limit0_369a9045a203e176392b9fb8f8c1cb2a.json'\n",
    "hdr = {'User-Agent': 'Mozilla/5.0'}\n",
    "request = Request(top_universities_url, headers=hdr)\n",
    "page = urlopen(request)\n",
    "data = json.loads(page.read().decode())['data']\n",
    "\n",
    "# Create an empty dataframe\n",
    "cols = ['University','Rank', 'Country', 'Student/Staff Ratio', 'International Studnet Ratio']\n",
    "df = pd.DataFrame(columns=cols)\n",
    "\n",
    "# Parse json for each ranking\n",
    "for item in range(200):\n",
    "#   Obtain university name, rank, country, student-staff ratio, and international student percent\n",
    "    name = data[item]['name']\n",
    "    rank = int(data[item]['rank'].strip('='))\n",
    "    country = data[item]['location']\n",
    "    stud_staff_ratio = float(data[item]['stats_student_staff_ratio'])\n",
    "    inter_stud_percent = int(data[item]['stats_pc_intl_students'].strip('%'))/100.0\n",
    "    \n",
    "#   Append each row of data to the dataframe\n",
    "    df2 = pd.DataFrame([[name, rank, country, stud_staff_ratio, inter_stud_percent]], columns=cols)\n",
    "    df = df.append(df2, ignore_index=True)\n",
    "    \n",
    "df.head()"
   ]
  },
  {
   "cell_type": "markdown",
   "metadata": {},
   "source": [
    "## Hint: Plot your data below using bar charts and describe briefly what you observed. Assume 'best universities' to refer to a top-k. Here our k = 10."
   ]
  },
  {
   "cell_type": "markdown",
   "metadata": {},
   "source": [
    "#### (a) Which are the best universities in terms of ratio between faculty members and students?"
   ]
  },
  {
   "cell_type": "code",
   "execution_count": 8,
   "metadata": {
    "collapsed": true
   },
   "outputs": [],
   "source": [
    "# Answer"
   ]
  },
  {
   "cell_type": "markdown",
   "metadata": {},
   "source": [
    "#### (b) Which are the best universities in terms of ratio of international students?"
   ]
  },
  {
   "cell_type": "code",
   "execution_count": 9,
   "metadata": {
    "collapsed": true
   },
   "outputs": [],
   "source": [
    "# Answer"
   ]
  },
  {
   "cell_type": "markdown",
   "metadata": {},
   "source": [
    "#### (c) Aggregate answers (a) and (b) by country"
   ]
  },
  {
   "cell_type": "code",
   "execution_count": 10,
   "metadata": {
    "collapsed": true
   },
   "outputs": [],
   "source": [
    "# Answer"
   ]
  },
  {
   "cell_type": "markdown",
   "metadata": {},
   "source": [
    "#### (d) Aggregate answers (a) and (b) by region"
   ]
  },
  {
   "cell_type": "code",
   "execution_count": 11,
   "metadata": {
    "collapsed": true
   },
   "outputs": [],
   "source": [
    "# Answer"
   ]
  },
  {
   "cell_type": "markdown",
   "metadata": {},
   "source": [
    "## Question 3\n",
    "Merge the two DataFrames created in questions 1 and 2 using university names. Match universities' names as well as you can, and explain your strategy. Keep track of the original position in both rankings."
   ]
  },
  {
   "cell_type": "code",
   "execution_count": 12,
   "metadata": {
    "collapsed": true
   },
   "outputs": [],
   "source": [
    "# Answer"
   ]
  },
  {
   "cell_type": "markdown",
   "metadata": {},
   "source": [
    "#### Explanation of Strategy"
   ]
  },
  {
   "cell_type": "markdown",
   "metadata": {},
   "source": [
    "## Question 4\n",
    "Find useful insights in the data by performing an exploratory analysis. Can you find a strong correlation between any pair of variables in the dataset you just created? Example: when a university is strong in its international dimension, can you observe a consistency both for students and faculty members?"
   ]
  },
  {
   "cell_type": "code",
   "execution_count": 13,
   "metadata": {
    "collapsed": true
   },
   "outputs": [],
   "source": [
    "# Answer"
   ]
  },
  {
   "cell_type": "markdown",
   "metadata": {},
   "source": [
    "#### Explanation:\n"
   ]
  },
  {
   "cell_type": "markdown",
   "metadata": {},
   "source": [
    "## Question 5\n",
    "Can you find the best university taking in consideration both rankings? Explain your approach."
   ]
  },
  {
   "cell_type": "code",
   "execution_count": 14,
   "metadata": {
    "collapsed": true
   },
   "outputs": [],
   "source": [
    "# Answer"
   ]
  },
  {
   "cell_type": "markdown",
   "metadata": {},
   "source": [
    "#### Explanation of Approach"
   ]
  }
 ],
 "metadata": {
  "kernelspec": {
   "display_name": "Python 3",
   "language": "python",
   "name": "python3"
  },
  "language_info": {
   "codemirror_mode": {
    "name": "ipython",
    "version": 3
   },
   "file_extension": ".py",
   "mimetype": "text/x-python",
   "name": "python",
   "nbconvert_exporter": "python",
   "pygments_lexer": "ipython3",
   "version": "3.6.1"
  }
 },
 "nbformat": 4,
 "nbformat_minor": 2
}
