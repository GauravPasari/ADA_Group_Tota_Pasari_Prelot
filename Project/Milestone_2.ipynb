{
 "cells": [
  {
   "cell_type": "markdown",
   "metadata": {
    "colab_type": "text",
    "id": "sDT5TLtahHw6"
   },
   "source": [
    "# Prediction in an Era of Unpredictability"
   ]
  },
  {
   "cell_type": "code",
   "execution_count": 1,
   "metadata": {
    "colab": {
     "autoexec": {
      "startup": false,
      "wait_interval": 0
     }
    },
    "colab_type": "code",
    "id": "xbI1be6UhHw9"
   },
   "outputs": [],
   "source": [
    "import codecs\n",
    "import matplotlib.pyplot as plt\n",
    "import nltk\n",
    "import numpy as np\n",
    "import pandas as pd\n",
    "import seaborn as sns\n",
    "import sklearn\n",
    "import string\n",
    "\n",
    "from pprint import pprint\n",
    "from nltk.corpus import stopwords\n",
    "from nltk.tokenize import TweetTokenizer\n",
    "from sklearn.feature_extraction.text import TfidfVectorizer\n",
    "from nltk.stem.porter import PorterStemmer\n",
    "from nltk.tokenize import RegexpTokenizer\n",
    "from gensim import corpora, models"
   ]
  },
  {
   "cell_type": "markdown",
   "metadata": {
    "colab_type": "text",
    "id": "YzRgmcndhHxL"
   },
   "source": [
    "## Research questions\n",
    "\n",
    "To better dissect the data and extract insights, we will explore the following questions:\n",
    "\n",
    "1. Which socio-economic factors have the biggest impact, if any, in building or altering popular opinion?\n",
    "    * Standard and Quality of Education (Wikidata, Educational databases)\n",
    "    * Income and Inequality Levels (Wikidata)\n",
    "</br>\n",
    "\n",
    "2. How does media through newspapers and social networks influence these events through information or misinformation?\n",
    "    * Newspaper (Corpus Data)\n",
    "    * Social Media (Twitter)\n",
    "</br>\n",
    "\n",
    "3. What is the influence of the political system in place?\n",
    "    * Political System\n",
    "    * Rate of Abstention (Wikidata)\n",
    "    * Demonstrations Covered in Media (Corpus Data)\n",
    "</br>\n",
    "\n",
    "4. How far in time could we have traced the roots of such events? (Wikidata, Newspapers)"
   ]
  },
  {
   "cell_type": "markdown",
   "metadata": {
    "colab_type": "text",
    "id": "aahPEd7UhHxN"
   },
   "source": [
    "### 1. Which socio-economic factors have the biggest impact, if any, in building or altering popular opinion?"
   ]
  },
  {
   "cell_type": "markdown",
   "metadata": {
    "colab_type": "text",
    "id": "RVV1KW8ChHxT"
   },
   "source": [
    "#### Standard and Quality of Education (Wikidata)"
   ]
  },
  {
   "cell_type": "code",
   "execution_count": 2,
   "metadata": {
    "colab": {
     "autoexec": {
      "startup": false,
      "wait_interval": 0
     }
    },
    "colab_type": "code",
    "collapsed": true,
    "id": "b67NLuH_hHxi"
   },
   "outputs": [],
   "source": [
    "edu_df = pd.DataFrame(columns=['Country',\n",
    "                               'Total Literacy',\n",
    "                               'Secondary Diploma',\n",
    "                               'Post-Secondary Diploma',\n",
    "                               'Total Enrolled',\n",
    "                               'National Education Budget'])"
   ]
  },
  {
   "cell_type": "code",
   "execution_count": 3,
   "metadata": {
    "colab": {
     "autoexec": {
      "startup": false,
      "wait_interval": 0
     }
    },
    "colab_type": "code",
    "collapsed": true,
    "id": "9YKnQXirhHxz"
   },
   "outputs": [],
   "source": [
    "edu_df.loc[len(edu_df)] = ['United States',\n",
    "                           '100%',\n",
    "                           '81%',\n",
    "                           '30%',\n",
    "                           '81.5 million',\n",
    "                           '1 trillion']\n",
    "\n",
    "edu_df.loc[len(edu_df)] = ['United Kingdom',\n",
    "                           '99%',\n",
    "                           '87%',\n",
    "                           '41%',\n",
    "                           '11.7 million',\n",
    "                           '62.2 billion']\n",
    "\n",
    "edu_df.loc[len(edu_df)] = ['Spain',\n",
    "                           '98.1%',\n",
    "                           '45.4%',\n",
    "                           '38.1%',\n",
    "                           '5.9 million',\n",
    "                           '4.04 billion']"
   ]
  },
  {
   "cell_type": "code",
   "execution_count": 4,
   "metadata": {
    "colab": {
     "autoexec": {
      "startup": false,
      "wait_interval": 0
     },
     "output_extras": [
      {}
     ]
    },
    "colab_type": "code",
    "id": "Itk56e_ThHx4",
    "outputId": "e9218639-a36b-4db7-82fe-b9fbd104b176"
   },
   "outputs": [
    {
     "data": {
      "text/html": [
       "<div>\n",
       "<style>\n",
       "    .dataframe thead tr:only-child th {\n",
       "        text-align: right;\n",
       "    }\n",
       "\n",
       "    .dataframe thead th {\n",
       "        text-align: left;\n",
       "    }\n",
       "\n",
       "    .dataframe tbody tr th {\n",
       "        vertical-align: top;\n",
       "    }\n",
       "</style>\n",
       "<table border=\"1\" class=\"dataframe\">\n",
       "  <thead>\n",
       "    <tr style=\"text-align: right;\">\n",
       "      <th></th>\n",
       "      <th>Country</th>\n",
       "      <th>Total Literacy</th>\n",
       "      <th>Secondary Diploma</th>\n",
       "      <th>Post-Secondary Diploma</th>\n",
       "      <th>Total Enrolled</th>\n",
       "      <th>National Education Budget</th>\n",
       "    </tr>\n",
       "  </thead>\n",
       "  <tbody>\n",
       "    <tr>\n",
       "      <th>0</th>\n",
       "      <td>United States</td>\n",
       "      <td>100%</td>\n",
       "      <td>81%</td>\n",
       "      <td>30%</td>\n",
       "      <td>81.5 million</td>\n",
       "      <td>1 trillion</td>\n",
       "    </tr>\n",
       "    <tr>\n",
       "      <th>1</th>\n",
       "      <td>United Kingdom</td>\n",
       "      <td>99%</td>\n",
       "      <td>87%</td>\n",
       "      <td>41%</td>\n",
       "      <td>11.7 million</td>\n",
       "      <td>62.2 billion</td>\n",
       "    </tr>\n",
       "    <tr>\n",
       "      <th>2</th>\n",
       "      <td>Spain</td>\n",
       "      <td>98.1%</td>\n",
       "      <td>45.4%</td>\n",
       "      <td>38.1%</td>\n",
       "      <td>5.9 million</td>\n",
       "      <td>4.04 billion</td>\n",
       "    </tr>\n",
       "  </tbody>\n",
       "</table>\n",
       "</div>"
      ],
      "text/plain": [
       "          Country Total Literacy Secondary Diploma Post-Secondary Diploma  \\\n",
       "0   United States           100%               81%                    30%   \n",
       "1  United Kingdom            99%               87%                    41%   \n",
       "2           Spain          98.1%             45.4%                  38.1%   \n",
       "\n",
       "  Total Enrolled National Education Budget  \n",
       "0   81.5 million                1 trillion  \n",
       "1   11.7 million              62.2 billion  \n",
       "2    5.9 million              4.04 billion  "
      ]
     },
     "execution_count": 4,
     "metadata": {},
     "output_type": "execute_result"
    }
   ],
   "source": [
    "edu_df.head()"
   ]
  },
  {
   "cell_type": "markdown",
   "metadata": {
    "colab_type": "text",
    "id": "YUmSWIkJhHyF"
   },
   "source": [
    "Sources: \n",
    "- https://en.wikipedia.org/wiki/Education_in_the_United_States\n",
    "- https://en.wikipedia.org/wiki/Education_in_England\n",
    "- https://en.wikipedia.org/wiki/List_of_Ministers_of_Education_of_Spain"
   ]
  },
  {
   "cell_type": "markdown",
   "metadata": {
    "colab_type": "text",
    "id": "VIKsTXxShHyH"
   },
   "source": [
    "### 2. How does media through newspapers and social networks influence these events through information or misinformation?"
   ]
  },
  {
   "cell_type": "markdown",
   "metadata": {
    "colab_type": "text",
    "id": "nb3sZdRMhHyI"
   },
   "source": [
    "### Data Sets\n",
    "For this question, we will focus on newspaper articles from the United States, United Kingdom, and Spain from the News On The Web Corpus Dataset. In terms of data collection, we will rely on articles regarding the U.S 2016 Presidential Election. We present here a short analysis for the the case of the United States Trump Election:"
   ]
  },
  {
   "cell_type": "markdown",
   "metadata": {
    "colab_type": "text",
    "id": "ShRAN3FIhHyJ"
   },
   "source": [
    "### Strategies \n",
    "\n",
    "The first approach could make use of the Term Frequency (TF) and Inverse Document Frequency (IDF) methods. This approach would find the most frequent words between some texts of the corpus.\n",
    "- TF for a term “t” is defined as the count of a term “t” in a document “D”\n",
    "- IDF for a term is defined as logarithm of ratio of total documents available in the corpus and number of documents containing the term \"T\"\n",
    "However this first approach requires the use of classes in the corpus. The classes that we could define could be \n",
    "1. The newspapers\n",
    "2. Article containing Trump article not containing trump\n",
    "3. Classes created depending of topic (This would require a preprocessing with topic modelling analysis such as Latent Dirichlet Allocation).\n",
    "Then we could use an unsupervised approach to find similarities between the newspapers based on the word associations\n",
    "\n",
    "The second approach would be a skip- gram model or a Fasttext (FastText version for word vector representations and analogies). \n",
    "- This approach would find the top words associated with the keywords Trump in each of the articles. \n",
    "- Then a corpus of this words could be created and IDs could be associated to them to create a Trump-word matric in each newspaper. From this an unsupervised clustering method could find similarities between newspapers based on the words used to talk about the event "
   ]
  },
  {
   "cell_type": "markdown",
   "metadata": {
    "colab_type": "text",
    "id": "9dapDWOohHyK"
   },
   "source": [
    "### Data Pre-Processing \n",
    "To select the appropriate articles, we iterate through all of the articles from 2016 within the corpus and only select those with key terms relevant to this topic (i.e. 'election', 'Trump', etc). Once we have these relevant articles, we convert the text to lowercase, remove the punctuation so words are not tokenized with the punctuation marks, remove common stopwords from the text, and then find the most important or trending words using the method described below.\n",
    " "
   ]
  },
  {
   "cell_type": "markdown",
   "metadata": {
    "colab_type": "text",
    "id": "-rqxBHd-hHyM"
   },
   "source": [
    "#### Source Files"
   ]
  },
  {
   "cell_type": "code",
   "execution_count": 5,
   "metadata": {
    "colab": {
     "autoexec": {
      "startup": false,
      "wait_interval": 0
     }
    },
    "colab_type": "code",
    "collapsed": true,
    "id": "QQF8sLMEhHyN"
   },
   "outputs": [],
   "source": [
    "SOURCE_1_PATH = \"./Data/now_sources_pt1.txt\"\n",
    "SOURCE_2_PATH = \"./Data/now_sources_pt2.txt\"\n",
    "DATA_PATH = \"./Data/16-10-us.full.txt\"\n",
    "ENCODING = \"latin1\"\n",
    "\n",
    "COLUMN_NAMES = ['TextID',\n",
    "                'Number of Words',\n",
    "                'Date',\n",
    "                'Country',\n",
    "                'Source',\n",
    "                'Link',\n",
    "                'Headline']"
   ]
  },
  {
   "cell_type": "code",
   "execution_count": 6,
   "metadata": {
    "colab": {
     "autoexec": {
      "startup": false,
      "wait_interval": 0
     },
     "output_extras": [
      {}
     ]
    },
    "colab_type": "code",
    "id": "Sqw0M0HlhHyR",
    "outputId": "9e7b8d75-945f-4638-fc7b-4163a3072d56"
   },
   "outputs": [
    {
     "data": {
      "text/html": [
       "<div>\n",
       "<style>\n",
       "    .dataframe thead tr:only-child th {\n",
       "        text-align: right;\n",
       "    }\n",
       "\n",
       "    .dataframe thead th {\n",
       "        text-align: left;\n",
       "    }\n",
       "\n",
       "    .dataframe tbody tr th {\n",
       "        vertical-align: top;\n",
       "    }\n",
       "</style>\n",
       "<table border=\"1\" class=\"dataframe\">\n",
       "  <thead>\n",
       "    <tr style=\"text-align: right;\">\n",
       "      <th></th>\n",
       "      <th>TextID</th>\n",
       "      <th>Number of Words</th>\n",
       "      <th>Date</th>\n",
       "      <th>Country</th>\n",
       "      <th>Source</th>\n",
       "      <th>Link</th>\n",
       "      <th>Headline</th>\n",
       "    </tr>\n",
       "  </thead>\n",
       "  <tbody>\n",
       "    <tr>\n",
       "      <th>0</th>\n",
       "      <td>1334669</td>\n",
       "      <td>334</td>\n",
       "      <td>10-01-01</td>\n",
       "      <td>US</td>\n",
       "      <td>The Next Web</td>\n",
       "      <td>http://thenextweb.com/2010/01/01/avatar-takes-...</td>\n",
       "      <td>Believe it or not: Avatar takes 1 petabyte of ...</td>\n",
       "    </tr>\n",
       "    <tr>\n",
       "      <th>1</th>\n",
       "      <td>1334671</td>\n",
       "      <td>493</td>\n",
       "      <td>10-01-01</td>\n",
       "      <td>US</td>\n",
       "      <td>People Magazine</td>\n",
       "      <td>http://www.people.com/people/article/0,,203339...</td>\n",
       "      <td>INSIDE STORY: The Making of Beyonc's 'Single ...</td>\n",
       "    </tr>\n",
       "    <tr>\n",
       "      <th>2</th>\n",
       "      <td>1334672</td>\n",
       "      <td>1255</td>\n",
       "      <td>10-01-01</td>\n",
       "      <td>US</td>\n",
       "      <td>San Francisco Chronicle</td>\n",
       "      <td>http://www.sfgate.com/bayarea/article/Biblical...</td>\n",
       "      <td>Biblical scholar's date for rapture: May 21, 2011</td>\n",
       "    </tr>\n",
       "    <tr>\n",
       "      <th>3</th>\n",
       "      <td>1334673</td>\n",
       "      <td>695</td>\n",
       "      <td>10-01-01</td>\n",
       "      <td>US</td>\n",
       "      <td>CNN</td>\n",
       "      <td>http://www.cnn.com/2010/HEALTH/01/01/multi.vit...</td>\n",
       "      <td>What you need to know about multivitamins</td>\n",
       "    </tr>\n",
       "    <tr>\n",
       "      <th>4</th>\n",
       "      <td>1334674</td>\n",
       "      <td>724</td>\n",
       "      <td>10-01-01</td>\n",
       "      <td>US</td>\n",
       "      <td>MedPage Today</td>\n",
       "      <td>http://www.medpagetoday.com/Psychiatry/sleepdi...</td>\n",
       "      <td>Lack of Sleep Linked to Depression in Adolescents</td>\n",
       "    </tr>\n",
       "  </tbody>\n",
       "</table>\n",
       "</div>"
      ],
      "text/plain": [
       "    TextID  Number of Words      Date Country                   Source  \\\n",
       "0  1334669              334  10-01-01      US             The Next Web   \n",
       "1  1334671              493  10-01-01      US          People Magazine   \n",
       "2  1334672             1255  10-01-01      US  San Francisco Chronicle   \n",
       "3  1334673              695  10-01-01      US                      CNN   \n",
       "4  1334674              724  10-01-01      US            MedPage Today   \n",
       "\n",
       "                                                Link  \\\n",
       "0  http://thenextweb.com/2010/01/01/avatar-takes-...   \n",
       "1  http://www.people.com/people/article/0,,203339...   \n",
       "2  http://www.sfgate.com/bayarea/article/Biblical...   \n",
       "3  http://www.cnn.com/2010/HEALTH/01/01/multi.vit...   \n",
       "4  http://www.medpagetoday.com/Psychiatry/sleepdi...   \n",
       "\n",
       "                                            Headline  \n",
       "0  Believe it or not: Avatar takes 1 petabyte of ...  \n",
       "1  INSIDE STORY: The Making of Beyonc's 'Single ...  \n",
       "2  Biblical scholar's date for rapture: May 21, 2011  \n",
       "3          What you need to know about multivitamins  \n",
       "4  Lack of Sleep Linked to Depression in Adolescents  "
      ]
     },
     "execution_count": 6,
     "metadata": {},
     "output_type": "execute_result"
    }
   ],
   "source": [
    "# open the source index files\n",
    "with codecs.open(SOURCE_1_PATH, \"r\", encoding=ENCODING) as f:\n",
    "    pt1 = pd.read_csv(f, sep=\"\\t\", names = COLUMN_NAMES)\n",
    "    \n",
    "pt1.head()"
   ]
  },
  {
   "cell_type": "code",
   "execution_count": 7,
   "metadata": {
    "colab": {
     "autoexec": {
      "startup": false,
      "wait_interval": 0
     }
    },
    "colab_type": "code",
    "id": "FzbCxHsLhHyX"
   },
   "outputs": [
    {
     "data": {
      "text/html": [
       "<div>\n",
       "<style>\n",
       "    .dataframe thead tr:only-child th {\n",
       "        text-align: right;\n",
       "    }\n",
       "\n",
       "    .dataframe thead th {\n",
       "        text-align: left;\n",
       "    }\n",
       "\n",
       "    .dataframe tbody tr th {\n",
       "        vertical-align: top;\n",
       "    }\n",
       "</style>\n",
       "<table border=\"1\" class=\"dataframe\">\n",
       "  <thead>\n",
       "    <tr style=\"text-align: right;\">\n",
       "      <th></th>\n",
       "      <th>TextID</th>\n",
       "      <th>Number of Words</th>\n",
       "      <th>Date</th>\n",
       "      <th>Country</th>\n",
       "      <th>Source</th>\n",
       "      <th>Link</th>\n",
       "      <th>Headline</th>\n",
       "    </tr>\n",
       "  </thead>\n",
       "  <tbody>\n",
       "    <tr>\n",
       "      <th>0</th>\n",
       "      <td>2930853</td>\n",
       "      <td>194</td>\n",
       "      <td>15-01-01</td>\n",
       "      <td>US</td>\n",
       "      <td>Consequence of Sound</td>\n",
       "      <td>http://consequenceofsound.net/2015/01/100000-c...</td>\n",
       "      <td>100000 copies of The Interview will be dropped...</td>\n",
       "    </tr>\n",
       "    <tr>\n",
       "      <th>1</th>\n",
       "      <td>2930854</td>\n",
       "      <td>266</td>\n",
       "      <td>15-01-01</td>\n",
       "      <td>US</td>\n",
       "      <td>Los Angeles Times</td>\n",
       "      <td>http://www.latimes.com/entertainment/movies/la...</td>\n",
       "      <td>'The Taking of Tiger Mountain' gets blockbuste...</td>\n",
       "    </tr>\n",
       "    <tr>\n",
       "      <th>2</th>\n",
       "      <td>2930855</td>\n",
       "      <td>701</td>\n",
       "      <td>15-01-01</td>\n",
       "      <td>US</td>\n",
       "      <td>TIME</td>\n",
       "      <td>http://time.com/3651697/afghanistan-war-cost/</td>\n",
       "      <td>The True Cost of the Afghanistan War May Surpr...</td>\n",
       "    </tr>\n",
       "    <tr>\n",
       "      <th>3</th>\n",
       "      <td>2930856</td>\n",
       "      <td>1963</td>\n",
       "      <td>15-01-01</td>\n",
       "      <td>US</td>\n",
       "      <td>The Week Magazine</td>\n",
       "      <td>http://theweek.com/articles/441310/confessions...</td>\n",
       "      <td>Confessions of a former TSA officer</td>\n",
       "    </tr>\n",
       "    <tr>\n",
       "      <th>4</th>\n",
       "      <td>2930859</td>\n",
       "      <td>263</td>\n",
       "      <td>15-01-01</td>\n",
       "      <td>US</td>\n",
       "      <td>Russia Beyond the Headlines</td>\n",
       "      <td>http://rbth.com/arts/2015/01/01/year_of_litera...</td>\n",
       "      <td>Pushkin, Gogol and Akhmatova to be symbols of ...</td>\n",
       "    </tr>\n",
       "  </tbody>\n",
       "</table>\n",
       "</div>"
      ],
      "text/plain": [
       "    TextID  Number of Words      Date Country                       Source  \\\n",
       "0  2930853              194  15-01-01      US         Consequence of Sound   \n",
       "1  2930854              266  15-01-01      US            Los Angeles Times   \n",
       "2  2930855              701  15-01-01      US                         TIME   \n",
       "3  2930856             1963  15-01-01      US            The Week Magazine   \n",
       "4  2930859              263  15-01-01      US  Russia Beyond the Headlines   \n",
       "\n",
       "                                                Link  \\\n",
       "0  http://consequenceofsound.net/2015/01/100000-c...   \n",
       "1  http://www.latimes.com/entertainment/movies/la...   \n",
       "2      http://time.com/3651697/afghanistan-war-cost/   \n",
       "3  http://theweek.com/articles/441310/confessions...   \n",
       "4  http://rbth.com/arts/2015/01/01/year_of_litera...   \n",
       "\n",
       "                                            Headline  \n",
       "0  100000 copies of The Interview will be dropped...  \n",
       "1  'The Taking of Tiger Mountain' gets blockbuste...  \n",
       "2  The True Cost of the Afghanistan War May Surpr...  \n",
       "3                Confessions of a former TSA officer  \n",
       "4  Pushkin, Gogol and Akhmatova to be symbols of ...  "
      ]
     },
     "execution_count": 7,
     "metadata": {},
     "output_type": "execute_result"
    }
   ],
   "source": [
    "with codecs.open(SOURCE_2_PATH, \"r\", encoding=\"latin1\") as f:\n",
    "    pt2 = pd.read_csv(f, sep=\"\\t\", names = COLUMN_NAMES)\n",
    "    \n",
    "pt2.head()"
   ]
  },
  {
   "cell_type": "markdown",
   "metadata": {
    "colab_type": "text",
    "id": "pJBYkk4ZhHyl"
   },
   "source": [
    "#### Newspaper Contents"
   ]
  },
  {
   "cell_type": "code",
   "execution_count": 8,
   "metadata": {
    "colab": {
     "autoexec": {
      "startup": false,
      "wait_interval": 0
     },
     "output_extras": [
      {}
     ]
    },
    "colab_type": "code",
    "id": "fhAJuQzzhHym",
    "outputId": "c1eceb7d-5d1a-44c3-9d2b-dd90a39e2923"
   },
   "outputs": [
    {
     "data": {
      "text/html": [
       "<div>\n",
       "<style>\n",
       "    .dataframe thead tr:only-child th {\n",
       "        text-align: right;\n",
       "    }\n",
       "\n",
       "    .dataframe thead th {\n",
       "        text-align: left;\n",
       "    }\n",
       "\n",
       "    .dataframe tbody tr th {\n",
       "        vertical-align: top;\n",
       "    }\n",
       "</style>\n",
       "<table border=\"1\" class=\"dataframe\">\n",
       "  <thead>\n",
       "    <tr style=\"text-align: right;\">\n",
       "      <th></th>\n",
       "      <th>Content</th>\n",
       "    </tr>\n",
       "  </thead>\n",
       "  <tbody>\n",
       "    <tr>\n",
       "      <th>0</th>\n",
       "      <td>@@14637197 &lt;p&gt; NEW YORK ( AP ) -- Donald Trump...</td>\n",
       "    </tr>\n",
       "    <tr>\n",
       "      <th>1</th>\n",
       "      <td>@@14637200 &lt;h&gt; Here 's all the crazy stuff tha...</td>\n",
       "    </tr>\n",
       "    <tr>\n",
       "      <th>2</th>\n",
       "      <td>@@14637201 &lt;h&gt; Another hotel wants to build in...</td>\n",
       "    </tr>\n",
       "    <tr>\n",
       "      <th>3</th>\n",
       "      <td>@@14637202 &lt;p&gt; In this Sept. 23 , 2016 photo ,...</td>\n",
       "    </tr>\n",
       "    <tr>\n",
       "      <th>4</th>\n",
       "      <td>@@14637203 &lt;h&gt; Court erases jury award of puni...</td>\n",
       "    </tr>\n",
       "    <tr>\n",
       "      <th>5</th>\n",
       "      <td>@@14637204 &lt;p&gt; A flurry of small earthquakes n...</td>\n",
       "    </tr>\n",
       "    <tr>\n",
       "      <th>6</th>\n",
       "      <td>@@14637207 &lt;h&gt; After a dominant win over Stanf...</td>\n",
       "    </tr>\n",
       "    <tr>\n",
       "      <th>7</th>\n",
       "      <td>@@14637209 &lt;h&gt; Story Highlights &lt;p&gt; A dramatic...</td>\n",
       "    </tr>\n",
       "    <tr>\n",
       "      <th>8</th>\n",
       "      <td>@@14637213 &lt;h&gt; Hueneme suffers first loss of s...</td>\n",
       "    </tr>\n",
       "    <tr>\n",
       "      <th>9</th>\n",
       "      <td>@@14637215 &lt;p&gt; CLOVERDALE -- A Napoleon woman ...</td>\n",
       "    </tr>\n",
       "  </tbody>\n",
       "</table>\n",
       "</div>"
      ],
      "text/plain": [
       "                                             Content\n",
       "0  @@14637197 <p> NEW YORK ( AP ) -- Donald Trump...\n",
       "1  @@14637200 <h> Here 's all the crazy stuff tha...\n",
       "2  @@14637201 <h> Another hotel wants to build in...\n",
       "3  @@14637202 <p> In this Sept. 23 , 2016 photo ,...\n",
       "4  @@14637203 <h> Court erases jury award of puni...\n",
       "5  @@14637204 <p> A flurry of small earthquakes n...\n",
       "6  @@14637207 <h> After a dominant win over Stanf...\n",
       "7  @@14637209 <h> Story Highlights <p> A dramatic...\n",
       "8  @@14637213 <h> Hueneme suffers first loss of s...\n",
       "9  @@14637215 <p> CLOVERDALE -- A Napoleon woman ..."
      ]
     },
     "execution_count": 8,
     "metadata": {},
     "output_type": "execute_result"
    }
   ],
   "source": [
    "# read all the lines in the file\n",
    "with codecs.open(DATA_PATH, \"r\", encoding=ENCODING) as f:\n",
    "    lines = f.readlines()\n",
    "\n",
    "# list to store all the lines read from the data file\n",
    "data = []\n",
    "\n",
    "# append all the lines to the list called data\n",
    "for line in lines:\n",
    "    data.append(line)\n",
    "\n",
    "# create DataFrame using the list of lines\n",
    "df = pd.DataFrame(data, columns=[\"Content\"])\n",
    "df.head(10)"
   ]
  },
  {
   "cell_type": "markdown",
   "metadata": {
    "colab_type": "text",
    "id": "uAS6OSo_hHyt"
   },
   "source": [
    "We replace all the punctuations in the text with a space. We first tried to replace it with an empty sequence but that replaces words such as \"Trump's\" with \"Trumps\". More importantly, finding all the relevant keywords using a regex also selects articles with words \"trumpets\", \"selection\", etc. which have the words \"trump\", \"election\" as substrings. So, we try to find the words \"trump \", \"election \", both ending with a space. So we need to replace punctuations with a space to find those words."
   ]
  },
  {
   "cell_type": "markdown",
   "metadata": {
    "colab_type": "text",
    "id": "NXHF6psmhHyt"
   },
   "source": [
    "#### Pre Processing "
   ]
  },
  {
   "cell_type": "code",
   "execution_count": 9,
   "metadata": {
    "colab": {
     "autoexec": {
      "startup": false,
      "wait_interval": 0
     },
     "output_extras": [
      {}
     ]
    },
    "colab_type": "code",
    "id": "aUdx1uEyhHyu",
    "outputId": "59dc81e3-c045-43d5-c643-ef553a9d8241"
   },
   "outputs": [
    {
     "name": "stdout",
     "output_type": "stream",
     "text": [
      "                                             Content\n",
      "0    14637197  p  new york   ap      donald trump...\n",
      "1    14637200  h  here  s all the crazy stuff tha...\n",
      "2    14637201  h  another hotel wants to build in...\n",
      "3    14637202  p  in this sept  23   2016 photo  ...\n",
      "4    14637203  h  court erases jury award of puni...\n",
      "5    14637204  p  a flurry of small earthquakes n...\n",
      "6    14637207  h  after a dominant win over stanf...\n",
      "7    14637209  h  story highlights  p  a dramatic...\n",
      "8    14637213  h  hueneme suffers first loss of s...\n",
      "9    14637215  p  cloverdale    a napoleon woman ...\n",
      "\n",
      "Number of articles = 26028\n"
     ]
    }
   ],
   "source": [
    "# function to replace all the punctuations with a space\n",
    "def remove_punctuations(text):\n",
    "    for punctuation in string.punctuation:\n",
    "        text = text.replace(punctuation, \" \")\n",
    "    return text\n",
    "\n",
    "# convert all text to lowercase\n",
    "df[\"Content\"] = df[\"Content\"].str.lower()\n",
    "\n",
    "# apply function to the given column\n",
    "df[\"Content\"] = df[\"Content\"].apply(remove_punctuations)\n",
    "\n",
    "print(df.head(10))\n",
    "print(\"\\nNumber of articles = {}\".format(df.shape[0]))"
   ]
  },
  {
   "cell_type": "code",
   "execution_count": 10,
   "metadata": {
    "colab": {
     "autoexec": {
      "startup": false,
      "wait_interval": 0
     }
    },
    "colab_type": "code",
    "collapsed": true,
    "id": "_DwMC7wphHyz"
   },
   "outputs": [],
   "source": [
    "# list of forbidden words that are very common in throughout all articles in journalism and should have less importance\n",
    "Forbiddenwords=['said',\n",
    "                'say',\n",
    "                'tell',\n",
    "                'just',\n",
    "                'will',\n",
    "                'one',\n",
    "                'said',\n",
    "                'say',\n",
    "                'tell',\n",
    "                'will',\n",
    "                'have',\n",
    "                'not',\n",
    "                'would',\n",
    "                'new',\n",
    "                'like',\n",
    "                'year']"
   ]
  },
  {
   "cell_type": "markdown",
   "metadata": {},
   "source": [
    "#### Word Lemma Pos"
   ]
  },
  {
   "cell_type": "markdown",
   "metadata": {},
   "source": [
    "An additional step to preprocessing will include replacing each word with it's lemma. We will also account for the stem of the word. For instance, 'immigrant' and 'immigration' have the same root. We will complete this portion by using data from the wlp (word lemma pos) section from the corpus database."
   ]
  },
  {
   "cell_type": "code",
   "execution_count": 11,
   "metadata": {
    "colab": {
     "autoexec": {
      "startup": false,
      "wait_interval": 0
     }
    },
    "colab_type": "code",
    "collapsed": true,
    "id": "KoBoB00YhHzA"
   },
   "outputs": [],
   "source": [
    "# Here we take care of stop words, numbers, map with\n",
    "# the word lemma pos dictionary (equivalent to Steming) \n",
    "# and we create an additional column with Ids\n",
    "id_=np.zeros(df.shape[0])\n",
    "stop_flag=True\n",
    "\n",
    "for idx, text in enumerate(df['Content']):\n",
    "# convert tweet to tokens\n",
    "    tknzr = TweetTokenizer()\n",
    "    text = tknzr.tokenize(text)\n",
    "\n",
    "# replace stopwords\n",
    "    if stop_flag:\n",
    "        stop = stopwords.words(\"english\") \n",
    "        text = [token for token in text if token not in stop]\n",
    "               \n",
    "    # apply stemming \n",
    "    # create p_stemmer of class PorterStemmer\n",
    "    p_stemmer = PorterStemmer()\n",
    "    text = [p_stemmer.stem(i) for i in text[1:]] # keep index\n",
    "    \n",
    "# remove forbidden library\n",
    "    text = [i for i in text if len((set([i]) & set(Forbiddenwords)))==0] # keep index\n",
    "    \n",
    "\n",
    "# store ID in a separate column  \n",
    "    if text[0].isdigit():\n",
    "        id_[idx]=int(text[0])\n",
    "    \n",
    "# remove numbers\n",
    "    text = [i for i in text if not i.isdigit()]  \n",
    "    \n",
    "# reconcatenate Tokens\n",
    "    text = \" \".join(text)\n",
    "   \n",
    "    df.loc[idx] = text"
   ]
  },
  {
   "cell_type": "code",
   "execution_count": 12,
   "metadata": {
    "colab": {
     "autoexec": {
      "startup": false,
      "wait_interval": 0
     }
    },
    "colab_type": "code",
    "id": "DshLdb0xhHzD"
   },
   "outputs": [],
   "source": [
    "# create the id column\n",
    "df['TextID']=id_\n",
    "\n",
    "df.head()"
   ]
  },
  {
   "cell_type": "markdown",
   "metadata": {
    "colab_type": "text",
    "id": "vrCyJ9EnhHzT"
   },
   "source": [
    "#### Selection of the articles of interest"
   ]
  },
  {
   "cell_type": "code",
   "execution_count": 14,
   "metadata": {
    "colab": {
     "autoexec": {
      "startup": false,
      "wait_interval": 0
     },
     "output_extras": [
      {}
     ]
    },
    "colab_type": "code",
    "id": "E0s5_xf7hHzT",
    "outputId": "f6c881f5-74f7-481b-9e77-9f0b8f816a64"
   },
   "outputs": [
    {
     "name": "stdout",
     "output_type": "stream",
     "text": [
      "                                               Content      TextID\n",
      "0    p york ap donald trump five day feud former be...  14637197.0\n",
      "10   h utility rates old market fire minds candidat...  14637217.0\n",
      "44   p file june file photo homeland security depar...  14638417.0\n",
      "45   p iowa city powerful university iowa administr...  14638418.0\n",
      "54   h tired rancor presidential politics check spi...  14638430.0\n",
      "77   h start listening audiobooks days free audible...  14639013.0\n",
      "81   h death shimon peres israel lost moral compass...  14639017.0\n",
      "87   p wbns tv line public inspection file found fc...  14639582.0\n",
      "92   h multiple fresh signs economic reports showin...  14639591.0\n",
      "102  p donald trump walks stage speaking rally frid...  14639602.0\n",
      "\n",
      "Number of articles = 4814\n"
     ]
    }
   ],
   "source": [
    "# to store all the articles relevant to our project from the file\n",
    "relevant_keywords = [\"election\",\n",
    "                     \"trump\",\n",
    "                     \"donald\"\n",
    "                     \"clinton\",\n",
    "                     \"hillary\"]\n",
    "\n",
    "# NOTE: add a space between the OR | symbol between the words so\n",
    "# we do not choose words which have relevant words as substrings\n",
    "relevant_regex = \" |\".join(relevant_keywords)\n",
    "\n",
    "# find all articles which contain any of the relevant keywords\n",
    "df = df[df[\"Content\"].str.contains(relevant_regex)]\n",
    "\n",
    "print(df.head(10))\n",
    "print(\"\\nNumber of articles = {}\".format(df.shape[0]))"
   ]
  },
  {
   "cell_type": "markdown",
   "metadata": {
    "colab_type": "text",
    "id": "v8BSQOc7hHzW"
   },
   "source": [
    "#### Create categories of articles for the TF-IDF analysis"
   ]
  },
  {
   "cell_type": "markdown",
   "metadata": {
    "colab_type": "text",
    "id": "fkRGFyUUhHzX"
   },
   "source": [
    "Here we test a simple Latent Dirichlet Allocation analysis to create article classes (Such as election, immigration..). This is a very basi model that could be improved "
   ]
  },
  {
   "cell_type": "code",
   "execution_count": 15,
   "metadata": {
    "colab": {
     "autoexec": {
      "startup": false,
      "wait_interval": 0
     }
    },
    "colab_type": "code",
    "collapsed": true,
    "id": "nUkQ2B6fhHzX"
   },
   "outputs": [],
   "source": [
    "concat_texts=[]\n",
    "for i in df['Content']:\n",
    "    # tknzr = TweetTokenizer(strip_handles=handles, reduce_len=length)s\n",
    "    tknzr = RegexpTokenizer(r'[A-Za-z]\\w+')\n",
    "    text = tknzr.tokenize(i)\n",
    "    concat_texts.append(text)"
   ]
  },
  {
   "cell_type": "code",
   "execution_count": 16,
   "metadata": {
    "colab": {
     "autoexec": {
      "startup": false,
      "wait_interval": 0
     }
    },
    "colab_type": "code",
    "collapsed": true,
    "id": "NgwC4C0MhHzZ"
   },
   "outputs": [],
   "source": [
    "# create dictionary \n",
    "dictionary = corpora.Dictionary(concat_texts)"
   ]
  },
  {
   "cell_type": "code",
   "execution_count": 17,
   "metadata": {
    "colab": {
     "autoexec": {
      "startup": false,
      "wait_interval": 0
     },
     "output_extras": [
      {}
     ]
    },
    "colab_type": "code",
    "id": "u5CUOvTyhHzc",
    "outputId": "29dafeb9-5fa0-45aa-a1bc-fce6953ce354"
   },
   "outputs": [
    {
     "name": "stdout",
     "output_type": "stream",
     "text": [
      "[(0, 1), (1, 1), (2, 1), (3, 1), (4, 1), (5, 2), (6, 1), (7, 1), (8, 1), (9, 1), (10, 1), (11, 1), (12, 1), (13, 2), (14, 1), (15, 1), (16, 1), (17, 1), (18, 1), (19, 1), (20, 1), (21, 1), (22, 1), (23, 1), (24, 1), (25, 1), (26, 1), (27, 1), (28, 1), (29, 1), (30, 1), (31, 1), (32, 1), (33, 1), (34, 1), (35, 1), (36, 1), (37, 1), (38, 1), (39, 1), (40, 1), (41, 1), (42, 1), (43, 2), (44, 1), (45, 3), (46, 3), (47, 1), (48, 2), (49, 2), (50, 2), (51, 3), (52, 1), (53, 1), (54, 2), (55, 2), (56, 1), (57, 1), (58, 1), (59, 1), (60, 1), (61, 1), (62, 1), (63, 1), (64, 1), (65, 1), (66, 1), (67, 1), (68, 1), (69, 1), (70, 1), (71, 1), (72, 1)]\n"
     ]
    }
   ],
   "source": [
    "# create vectors for each text \n",
    "corpus = [dictionary.doc2bow(t) for t in concat_texts]\n",
    "print(corpus[0])"
   ]
  },
  {
   "cell_type": "code",
   "execution_count": 18,
   "metadata": {
    "colab": {
     "autoexec": {
      "startup": false,
      "wait_interval": 0
     }
    },
    "colab_type": "code",
    "id": "poJI7k4HhHzg"
   },
   "outputs": [],
   "source": [
    "ldamodel = models.ldamodel.LdaModel(corpus, num_topics=15, id2word = dictionary, passes=5)"
   ]
  },
  {
   "cell_type": "code",
   "execution_count": 19,
   "metadata": {
    "colab": {
     "autoexec": {
      "startup": false,
      "wait_interval": 0
     }
    },
    "colab_type": "code",
    "id": "VvWvx-UlhHzj"
   },
   "outputs": [
    {
     "name": "stdout",
     "output_type": "stream",
     "text": [
      "[(0, '0.007*\"school\" + 0.006*\"students\" + 0.005*\"percent\" + 0.004*\"years\"'), (1, '0.015*\"clinton\" + 0.012*\"fbi\" + 0.010*\"emails\" + 0.008*\"comey\"'), (2, '0.025*\"trump\" + 0.010*\"million\" + 0.009*\"tax\" + 0.006*\"campaign\"'), (3, '0.011*\"police\" + 0.008*\"abortion\" + 0.007*\"court\" + 0.005*\"gun\"'), (4, '0.009*\"health\" + 0.007*\"care\" + 0.006*\"marijuana\" + 0.005*\"medical\"'), (5, '0.008*\"people\" + 0.005*\"time\" + 0.004*\"think\" + 0.004*\"get\"'), (6, '0.027*\"comments\" + 0.014*\"users\" + 0.014*\"posts\" + 0.010*\"replies\"'), (7, '0.013*\"game\" + 0.008*\"team\" + 0.007*\"season\" + 0.007*\"cubs\"'), (8, '0.018*\"election\" + 0.014*\"state\" + 0.013*\"county\" + 0.010*\"vote\"'), (9, '0.030*\"trump\" + 0.020*\"clinton\" + 0.010*\"election\" + 0.009*\"percent\"'), (10, '0.043*\"trump\" + 0.013*\"women\" + 0.009*\"donald\" + 0.009*\"clinton\"'), (11, '0.005*\"two\" + 0.004*\"star\" + 0.004*\"first\" + 0.004*\"police\"'), (12, '0.023*\"clinton\" + 0.012*\"obama\" + 0.012*\"president\" + 0.011*\"trump\"'), (13, '0.011*\"discussion\" + 0.007*\"state\" + 0.007*\"person\" + 0.007*\"another\"'), (14, '0.011*\"women\" + 0.008*\"npr\" + 0.007*\"spanish\" + 0.006*\"san\"')]\n"
     ]
    }
   ],
   "source": [
    "print(ldamodel.print_topics(num_topics=15, num_words=4))"
   ]
  },
  {
   "cell_type": "markdown",
   "metadata": {},
   "source": [
    "From our preliminary analysis we could draw the following categories:'Education','Clinton e-mails and Comey e-mails' 'Tax Campain' 'Social Issues' 'Healthcare and Majijuana' '#','Social Medias','Sports','Elections States', 'Election percentages','Trump and women','#','Trump vs Obama vs Clinton','#','#'\n",
    "(Ambigous categories are displayed with the sign '#')"
   ]
  },
  {
   "cell_type": "markdown",
   "metadata": {
    "colab_type": "text",
    "id": "exb5WAQ7hHzl"
   },
   "source": [
    "#### Find most important and trending words using TF-IDF"
   ]
  },
  {
   "cell_type": "code",
   "execution_count": 20,
   "metadata": {
    "colab": {
     "autoexec": {
      "startup": false,
      "wait_interval": 0
     },
     "output_extras": [
      {},
      {}
     ]
    },
    "colab_type": "code",
    "id": "Mu84wLr9hHzm",
    "outputId": "9716644f-e66a-4f17-c798-ae9abf0cf706"
   },
   "outputs": [
    {
     "name": "stdout",
     "output_type": "stream",
     "text": [
      "Finding trending words in 4814 articles\n",
      "\n",
      "Converted text into vectors of shape (4814, 59384)\n"
     ]
    },
    {
     "data": {
      "text/html": [
       "<div>\n",
       "<style>\n",
       "    .dataframe thead tr:only-child th {\n",
       "        text-align: right;\n",
       "    }\n",
       "\n",
       "    .dataframe thead th {\n",
       "        text-align: left;\n",
       "    }\n",
       "\n",
       "    .dataframe tbody tr th {\n",
       "        vertical-align: top;\n",
       "    }\n",
       "</style>\n",
       "<table border=\"1\" class=\"dataframe\">\n",
       "  <thead>\n",
       "    <tr style=\"text-align: right;\">\n",
       "      <th></th>\n",
       "      <th>feature</th>\n",
       "      <th>tfidf</th>\n",
       "    </tr>\n",
       "  </thead>\n",
       "  <tbody>\n",
       "    <tr>\n",
       "      <th>54421</th>\n",
       "      <td>trump</td>\n",
       "      <td>0.071798</td>\n",
       "    </tr>\n",
       "    <tr>\n",
       "      <th>10306</th>\n",
       "      <td>clinton</td>\n",
       "      <td>0.039813</td>\n",
       "    </tr>\n",
       "    <tr>\n",
       "      <th>17172</th>\n",
       "      <td>election</td>\n",
       "      <td>0.021736</td>\n",
       "    </tr>\n",
       "    <tr>\n",
       "      <th>8245</th>\n",
       "      <td>campaign</td>\n",
       "      <td>0.021003</td>\n",
       "    </tr>\n",
       "    <tr>\n",
       "      <th>58425</th>\n",
       "      <td>women</td>\n",
       "      <td>0.019882</td>\n",
       "    </tr>\n",
       "    <tr>\n",
       "      <th>15936</th>\n",
       "      <td>donald</td>\n",
       "      <td>0.018686</td>\n",
       "    </tr>\n",
       "    <tr>\n",
       "      <th>39186</th>\n",
       "      <td>people</td>\n",
       "      <td>0.018332</td>\n",
       "    </tr>\n",
       "    <tr>\n",
       "      <th>50242</th>\n",
       "      <td>state</td>\n",
       "      <td>0.018108</td>\n",
       "    </tr>\n",
       "    <tr>\n",
       "      <th>41164</th>\n",
       "      <td>presidential</td>\n",
       "      <td>0.017147</td>\n",
       "    </tr>\n",
       "    <tr>\n",
       "      <th>10925</th>\n",
       "      <td>comments</td>\n",
       "      <td>0.016870</td>\n",
       "    </tr>\n",
       "    <tr>\n",
       "      <th>39214</th>\n",
       "      <td>percent</td>\n",
       "      <td>0.016861</td>\n",
       "    </tr>\n",
       "    <tr>\n",
       "      <th>24535</th>\n",
       "      <td>hillary</td>\n",
       "      <td>0.016487</td>\n",
       "    </tr>\n",
       "    <tr>\n",
       "      <th>13641</th>\n",
       "      <td>debate</td>\n",
       "      <td>0.016256</td>\n",
       "    </tr>\n",
       "    <tr>\n",
       "      <th>44260</th>\n",
       "      <td>republican</td>\n",
       "      <td>0.016248</td>\n",
       "    </tr>\n",
       "    <tr>\n",
       "      <th>41159</th>\n",
       "      <td>president</td>\n",
       "      <td>0.014794</td>\n",
       "    </tr>\n",
       "  </tbody>\n",
       "</table>\n",
       "</div>"
      ],
      "text/plain": [
       "            feature     tfidf\n",
       "54421         trump  0.071798\n",
       "10306       clinton  0.039813\n",
       "17172      election  0.021736\n",
       "8245       campaign  0.021003\n",
       "58425         women  0.019882\n",
       "15936        donald  0.018686\n",
       "39186        people  0.018332\n",
       "50242         state  0.018108\n",
       "41164  presidential  0.017147\n",
       "10925      comments  0.016870\n",
       "39214       percent  0.016861\n",
       "24535       hillary  0.016487\n",
       "13641        debate  0.016256\n",
       "44260    republican  0.016248\n",
       "41159     president  0.014794"
      ]
     },
     "execution_count": 20,
     "metadata": {},
     "output_type": "execute_result"
    }
   ],
   "source": [
    "print(\"Finding trending words in {} articles\\n\".format(df.shape[0]))\n",
    "\n",
    "vectorizer = TfidfVectorizer(stop_words=\"english\")\n",
    "\n",
    "vectors = vectorizer.fit_transform(df.Content)\n",
    "print(\"Converted text into vectors of shape {}\".format(vectors.shape))\n",
    "\n",
    "weights = np.asarray(vectors.mean(axis=0)).ravel().tolist()\n",
    "weights_df = pd.DataFrame({\n",
    "                \"feature\": vectorizer.get_feature_names(),\n",
    "                \"tfidf\": weights\n",
    "            })\n",
    "\n",
    "sorted_df = weights_df.sort_values(by=\"tfidf\", ascending=False)\n",
    "sorted_df.head(15)"
   ]
  },
  {
   "cell_type": "code",
   "execution_count": 24,
   "metadata": {
    "colab": {
     "autoexec": {
      "startup": false,
      "wait_interval": 0
     },
     "output_extras": [
      {}
     ]
    },
    "colab_type": "code",
    "id": "nx5LAqiEhHzr",
    "outputId": "6be2a339-b45d-4acc-cfc9-28ccd054591f"
   },
   "outputs": [
    {
     "data": {
      "image/png": "[encoded data removed]",
      "text/plain": [
       "<matplotlib.figure.Figure at 0x11ef33fd0>"
      ]
     },
     "metadata": {},
     "output_type": "display_data"
    }
   ],
   "source": [
    "plt.figure(figsize=(10, 15))\n",
    "\n",
    "ax = sns.barplot(\n",
    "        x=\"tfidf\",\n",
    "        y=\"feature\",\n",
    "        data=sorted_df[0:15])\n",
    "\n",
    "ax.set_title(\"Top 15 Features\")\n",
    "ax.set_ylabel(\"Feature\")\n",
    "ax.set_xlabel(\"Importance\")\n",
    "\n",
    "plt.show()"
   ]
  },
  {
   "cell_type": "markdown",
   "metadata": {},
   "source": [
    "For further analysis on the data, we will use the following approaches:\n",
    "- There are nearly 600 different sources in our subsample from the Corpus database. We hope to analyze trends for across these sources to account for differences between different newsources.\n",
    "- We will also incorporate the genre of the source (i.e. Politics, Religion, Sports, etc.) to complete a more refined analysis. \n",
    "- Lastly, we will compare trends between sources that mention the 'election' or 'Trump' with those that do not to see which topics are more heavily associated with the election."
   ]
  },
  {
   "cell_type": "markdown",
   "metadata": {},
   "source": [
    "### 3.What is the influence of the political system in place?"
   ]
  },
  {
   "cell_type": "markdown",
   "metadata": {},
   "source": [
    "For checking the demonstrations covered in media, we can try to classify newspapers as Republican or Democrat. Once we have a fairly accurate classification model, we will try to use the same analysis used to answer Question 2, to find words such as \"demonstration\", \"violence\", \"protests\", etc. and see how frequently (and importantly using TF-IDF) they are mentioned in the Republic and Democrat newspapers."
   ]
  },
  {
   "cell_type": "code",
   "execution_count": 25,
   "metadata": {
    "collapsed": true
   },
   "outputs": [],
   "source": [
    "abstention_df = pd.DataFrame(columns=['Country',\n",
    "                                'Past Election Cycle 1',\n",
    "                                'Past Election Cycle 2',\n",
    "                                'Past Election Cycle 3',\n",
    "                                'Past Election Cycle 4',\n",
    "                                'Past Election Cycle 5'])"
   ]
  },
  {
   "cell_type": "code",
   "execution_count": 26,
   "metadata": {},
   "outputs": [
    {
     "data": {
      "text/html": [
       "<div>\n",
       "<style>\n",
       "    .dataframe thead tr:only-child th {\n",
       "        text-align: right;\n",
       "    }\n",
       "\n",
       "    .dataframe thead th {\n",
       "        text-align: left;\n",
       "    }\n",
       "\n",
       "    .dataframe tbody tr th {\n",
       "        vertical-align: top;\n",
       "    }\n",
       "</style>\n",
       "<table border=\"1\" class=\"dataframe\">\n",
       "  <thead>\n",
       "    <tr style=\"text-align: right;\">\n",
       "      <th></th>\n",
       "      <th>Country</th>\n",
       "      <th>Past Election Cycle 1</th>\n",
       "      <th>Past Election Cycle 2</th>\n",
       "      <th>Past Election Cycle 3</th>\n",
       "      <th>Past Election Cycle 4</th>\n",
       "      <th>Past Election Cycle 5</th>\n",
       "    </tr>\n",
       "  </thead>\n",
       "  <tbody>\n",
       "    <tr>\n",
       "      <th>0</th>\n",
       "      <td>United States</td>\n",
       "      <td>55.5%</td>\n",
       "      <td>54.9%</td>\n",
       "      <td>58.2%</td>\n",
       "      <td>55.7%</td>\n",
       "      <td>50.3%</td>\n",
       "    </tr>\n",
       "    <tr>\n",
       "      <th>1</th>\n",
       "      <td>United Kingdom</td>\n",
       "      <td>68.7%</td>\n",
       "      <td>66.1%</td>\n",
       "      <td>65.1%</td>\n",
       "      <td>61.4%</td>\n",
       "      <td>59.4%</td>\n",
       "    </tr>\n",
       "  </tbody>\n",
       "</table>\n",
       "</div>"
      ],
      "text/plain": [
       "          Country Past Election Cycle 1 Past Election Cycle 2  \\\n",
       "0   United States                 55.5%                 54.9%   \n",
       "1  United Kingdom                 68.7%                 66.1%   \n",
       "\n",
       "  Past Election Cycle 3 Past Election Cycle 4 Past Election Cycle 5  \n",
       "0                 58.2%                 55.7%                 50.3%  \n",
       "1                 65.1%                 61.4%                 59.4%  "
      ]
     },
     "execution_count": 26,
     "metadata": {},
     "output_type": "execute_result"
    }
   ],
   "source": [
    "abstention_df.loc[len(abstention_df)] = ['United States',\n",
    "                                         '55.5%',\n",
    "                                         '54.9%',\n",
    "                                         '58.2%',\n",
    "                                         '55.7%',\n",
    "                                         '50.3%']\n",
    "\n",
    "abstention_df.loc[len(abstention_df)] = ['United Kingdom',\n",
    "                                         '68.7%',\n",
    "                                         '66.1%',\n",
    "                                         '65.1%',\n",
    "                                         '61.4%',\n",
    "                                         '59.4%']\n",
    "abstention_df.head()"
   ]
  },
  {
   "cell_type": "markdown",
   "metadata": {},
   "source": [
    "Sources: \n",
    "- https://en.wikipedia.org/wiki/Voter_turnout_in_the_United_States_presidential_elections#Turnout_statistics\n",
    "- http://www.ukpolitical.info/Turnout45.htm"
   ]
  },
  {
   "cell_type": "markdown",
   "metadata": {},
   "source": [
    "### 4. How far in time could we have traced the roots of such events? (Wikidata, Newspapers)"
   ]
  },
  {
   "cell_type": "markdown",
   "metadata": {},
   "source": [
    "To trace how far back in time these events started, we need to look at US news sources and their articles from all the way back in 2010 to 2016. By using the Fasttext method, we query (of the form A - B + C) as \"immigration - Trump + policy\" to get articles on immigration where Trump was not involved and that concerned policy. We can find trending words relating to each query and see which year saw such events and ideas starting to form their roots. The same can be extended to Brexit to observe how far back certain ideas or opinions were being formed."
   ]
  }
 ],
 "metadata": {
  "colab": {
   "default_view": {},
   "name": "Milestone_Merged_2.ipynb",
   "provenance": [],
   "version": "0.3.2",
   "views": {}
  },
  "kernelspec": {
   "display_name": "Python 3",
   "language": "python",
   "name": "python3"
  },
  "language_info": {
   "codemirror_mode": {
    "name": "ipython",
    "version": 3
   },
   "file_extension": ".py",
   "mimetype": "text/x-python",
   "name": "python",
   "nbconvert_exporter": "python",
   "pygments_lexer": "ipython3",
   "version": "3.6.1"
  }
 },
 "nbformat": 4,
 "nbformat_minor": 1
}
